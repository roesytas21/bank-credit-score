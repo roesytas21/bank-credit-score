{
 "cells": [
  {
   "cell_type": "markdown",
   "id": "501ee999",
   "metadata": {},
   "source": [
    "# Deskripsi Proyek\n",
    "\n",
    "Proyek Anda ialah menyiapkan laporan untuk bank bagian kredit. Anda akan mencari tahu pengaruh status perkawinan seorang nasabah dan jumlah anak yang dimilikinya terhadap probabilitas gagal bayar dalam melunasi pinjaman. Pihak bank sudah memiliki beberapa data mengenai kelayakan kredit nasabah.\n",
    "Laporan Anda akan menjadi bahan pertimbangan pada saat membuat penilaian kredit untuk calon nasabah. Penilaian kredit digunakan untuk mengevaluasi kemampuan calon peminjam untuk melunasi pinjaman mereka."
   ]
  },
  {
   "cell_type": "markdown",
   "id": "99a154e1",
   "metadata": {},
   "source": [
    "# Daftar Isi\n",
    "\n",
    "* [Tujuan Proyek](#tujuan)\n",
    "* [Import Dataset dan Library](#import)\n",
    "    * [Eksplorasi Data](#explore)\n",
    "    * [Distribusi Data yang Hilang](#null-distribution)\n",
    "    * [Kesimpulan Dataset](#summary-data)\n",
    "* [Pra-pemrosesan Data](#praprocessing)\n",
    "    * [Menyetarakan Entri di Kolom `education`](#lower-education)\n",
    "    * [Transformasi Data](#transformation)\n",
    "        * [Kolom : `children`](#transformation-children)\n",
    "        * [Kolom : `days_employed`](#transformation-daysemployed)\n",
    "        * [Kolom : `gender`](#transformation-gender)\n",
    "        * [Kolom : `total_income`](#transformation-income)\n",
    "    * [Mengisi Nilai yang Hilang](#fill-null)\n",
    "        * [Kolom : `total_income`](#fill-income)\n",
    "        * [Kolom : `days_employed`](#fill-days)\n",
    "    * [Menambah Kolom yang Dibutuhkan](#add-column)\n",
    "* [Pengkategorian Data](#data-cat)\n",
    "    * [Kolom : `years_employed`](#data-cat-years)\n",
    "    * [Kolom : `total_income`](#data-cat-income)\n",
    "* [Memeriksa Hipotesis](#check-hypothesis)\n",
    "    * [Jumlah Anak](#children)\n",
    "    * [Status Keluarga](#family-status)\n",
    "    * [Tingkat Pendapatan](#total-income)\n",
    "    * [Tujuan](#purpose)\n"
   ]
  },
  {
   "cell_type": "markdown",
   "id": "39ff11f8",
   "metadata": {},
   "source": [
    "# Tujuan Proyek <a id='tujuan'></a>\n",
    "\n",
    "Tujuan dari proyek ini adalah **untuk melakukan pra-pemrosesan data** dimana hal-hal yang dilakukan adalah:\n",
    "1. Mengidentifikasi nilai-nilai yang hilang\n",
    "2. Mengganti tipe data menjadi tipe data yang dibutuhkan\n",
    "3. Menghapus data duplikat\n",
    "4. Mengkategorikan data\n",
    "\n",
    "Setelah melakukan pra-pemrosesan data, dapat dilakukan analisis data untuk menjawab apakah ada hubungan antara gagal bayar dengan:\n",
    "1. Jumlah anak\n",
    "2. Status perkawinan\n",
    "3. Tingkat pendapatan\n",
    "4. Tujuan peminjaman"
   ]
  },
  {
   "cell_type": "markdown",
   "id": "ce833ef3",
   "metadata": {},
   "source": [
    "# Import Dataset dan Library <a id='import'></a>"
   ]
  },
  {
   "cell_type": "code",
   "execution_count": 2,
   "id": "72eb99bd",
   "metadata": {},
   "outputs": [
    {
     "data": {
      "text/html": [
       "<div>\n",
       "<style scoped>\n",
       "    .dataframe tbody tr th:only-of-type {\n",
       "        vertical-align: middle;\n",
       "    }\n",
       "\n",
       "    .dataframe tbody tr th {\n",
       "        vertical-align: top;\n",
       "    }\n",
       "\n",
       "    .dataframe thead th {\n",
       "        text-align: right;\n",
       "    }\n",
       "</style>\n",
       "<table border=\"1\" class=\"dataframe\">\n",
       "  <thead>\n",
       "    <tr style=\"text-align: right;\">\n",
       "      <th></th>\n",
       "      <th>children</th>\n",
       "      <th>days_employed</th>\n",
       "      <th>dob_years</th>\n",
       "      <th>education</th>\n",
       "      <th>education_id</th>\n",
       "      <th>family_status</th>\n",
       "      <th>family_status_id</th>\n",
       "      <th>gender</th>\n",
       "      <th>income_type</th>\n",
       "      <th>debt</th>\n",
       "      <th>total_income</th>\n",
       "      <th>purpose</th>\n",
       "    </tr>\n",
       "  </thead>\n",
       "  <tbody>\n",
       "    <tr>\n",
       "      <th>0</th>\n",
       "      <td>1</td>\n",
       "      <td>-8437.673028</td>\n",
       "      <td>42</td>\n",
       "      <td>bachelor's degree</td>\n",
       "      <td>0</td>\n",
       "      <td>married</td>\n",
       "      <td>0</td>\n",
       "      <td>F</td>\n",
       "      <td>employee</td>\n",
       "      <td>0</td>\n",
       "      <td>40620.102</td>\n",
       "      <td>purchase of the house</td>\n",
       "    </tr>\n",
       "    <tr>\n",
       "      <th>1</th>\n",
       "      <td>1</td>\n",
       "      <td>-4024.803754</td>\n",
       "      <td>36</td>\n",
       "      <td>secondary education</td>\n",
       "      <td>1</td>\n",
       "      <td>married</td>\n",
       "      <td>0</td>\n",
       "      <td>F</td>\n",
       "      <td>employee</td>\n",
       "      <td>0</td>\n",
       "      <td>17932.802</td>\n",
       "      <td>car purchase</td>\n",
       "    </tr>\n",
       "    <tr>\n",
       "      <th>2</th>\n",
       "      <td>0</td>\n",
       "      <td>-5623.422610</td>\n",
       "      <td>33</td>\n",
       "      <td>Secondary Education</td>\n",
       "      <td>1</td>\n",
       "      <td>married</td>\n",
       "      <td>0</td>\n",
       "      <td>M</td>\n",
       "      <td>employee</td>\n",
       "      <td>0</td>\n",
       "      <td>23341.752</td>\n",
       "      <td>purchase of the house</td>\n",
       "    </tr>\n",
       "    <tr>\n",
       "      <th>3</th>\n",
       "      <td>3</td>\n",
       "      <td>-4124.747207</td>\n",
       "      <td>32</td>\n",
       "      <td>secondary education</td>\n",
       "      <td>1</td>\n",
       "      <td>married</td>\n",
       "      <td>0</td>\n",
       "      <td>M</td>\n",
       "      <td>employee</td>\n",
       "      <td>0</td>\n",
       "      <td>42820.568</td>\n",
       "      <td>supplementary education</td>\n",
       "    </tr>\n",
       "    <tr>\n",
       "      <th>4</th>\n",
       "      <td>0</td>\n",
       "      <td>340266.072047</td>\n",
       "      <td>53</td>\n",
       "      <td>secondary education</td>\n",
       "      <td>1</td>\n",
       "      <td>civil partnership</td>\n",
       "      <td>1</td>\n",
       "      <td>F</td>\n",
       "      <td>retiree</td>\n",
       "      <td>0</td>\n",
       "      <td>25378.572</td>\n",
       "      <td>to have a wedding</td>\n",
       "    </tr>\n",
       "  </tbody>\n",
       "</table>\n",
       "</div>"
      ],
      "text/plain": [
       "   children  days_employed  dob_years            education  education_id  \\\n",
       "0         1   -8437.673028         42    bachelor's degree             0   \n",
       "1         1   -4024.803754         36  secondary education             1   \n",
       "2         0   -5623.422610         33  Secondary Education             1   \n",
       "3         3   -4124.747207         32  secondary education             1   \n",
       "4         0  340266.072047         53  secondary education             1   \n",
       "\n",
       "       family_status  family_status_id gender income_type  debt  total_income  \\\n",
       "0            married                 0      F    employee     0     40620.102   \n",
       "1            married                 0      F    employee     0     17932.802   \n",
       "2            married                 0      M    employee     0     23341.752   \n",
       "3            married                 0      M    employee     0     42820.568   \n",
       "4  civil partnership                 1      F     retiree     0     25378.572   \n",
       "\n",
       "                   purpose  \n",
       "0    purchase of the house  \n",
       "1             car purchase  \n",
       "2    purchase of the house  \n",
       "3  supplementary education  \n",
       "4        to have a wedding  "
      ]
     },
     "execution_count": 2,
     "metadata": {},
     "output_type": "execute_result"
    }
   ],
   "source": [
    "#import the library\n",
    "import pandas as pd\n",
    "import seaborn as sns\n",
    "import matplotlib.pyplot as plt\n",
    "import numpy as np\n",
    "\n",
    "#import the dataset\n",
    "credit_scoring = pd.read_csv('credit_scoring_eng.csv')\n",
    "\n",
    "#check the dataset\n",
    "credit_scoring.head()"
   ]
  },
  {
   "cell_type": "markdown",
   "id": "9fea5ee0",
   "metadata": {},
   "source": [
    "## Eksplorasi Data <a id='explore'></a>\n",
    "\n",
    "Data yang disediakan pihak bank memiliki beberapa kolom, diantaranya :\n",
    "- `children` - jumlah anak dalam keluarga\n",
    "- `days_employed` - pengalaman kerja nasabah dalam hari\n",
    "- `dob_years` - usia nasabah dalam tahun\n",
    "- `education` - tingkat pendidikan nasabah\n",
    "- `education_id` - pengidentifikasi untuk tingkat pendidikan nasabah\n",
    "- `family_status` - pengidentifikasi untuk status perkawinan nasabah\n",
    "- `family_status_id` - tanda pengenal status perkawinan\n",
    "- `gender` - jenis kelamin nasabah\n",
    "- `income_type` - jenis pekerjaan\n",
    "- `debt` - apakah nasabah memiliki hutang pembayaran pinjaman\n",
    "- `total_income` - pendapatan bulanan\n",
    "- `purpose` - tujuan mendapatkan pinjaman"
   ]
  },
  {
   "cell_type": "code",
   "execution_count": 3,
   "id": "afd83be8",
   "metadata": {},
   "outputs": [
    {
     "data": {
      "text/plain": [
       "(21525, 12)"
      ]
     },
     "execution_count": 3,
     "metadata": {},
     "output_type": "execute_result"
    }
   ],
   "source": [
    "#check the dataset shape\n",
    "credit_scoring.shape"
   ]
  },
  {
   "cell_type": "code",
   "execution_count": 4,
   "id": "f5b9fdff",
   "metadata": {},
   "outputs": [
    {
     "name": "stdout",
     "output_type": "stream",
     "text": [
      "<class 'pandas.core.frame.DataFrame'>\n",
      "RangeIndex: 21525 entries, 0 to 21524\n",
      "Data columns (total 12 columns):\n",
      " #   Column            Non-Null Count  Dtype  \n",
      "---  ------            --------------  -----  \n",
      " 0   children          21525 non-null  int64  \n",
      " 1   days_employed     19351 non-null  float64\n",
      " 2   dob_years         21525 non-null  int64  \n",
      " 3   education         21525 non-null  object \n",
      " 4   education_id      21525 non-null  int64  \n",
      " 5   family_status     21525 non-null  object \n",
      " 6   family_status_id  21525 non-null  int64  \n",
      " 7   gender            21525 non-null  object \n",
      " 8   income_type       21525 non-null  object \n",
      " 9   debt              21525 non-null  int64  \n",
      " 10  total_income      19351 non-null  float64\n",
      " 11  purpose           21525 non-null  object \n",
      "dtypes: float64(2), int64(5), object(5)\n",
      "memory usage: 2.0+ MB\n"
     ]
    }
   ],
   "source": [
    "#check the dataset information\n",
    "credit_scoring.info()"
   ]
  },
  {
   "cell_type": "code",
   "execution_count": 5,
   "id": "e01034e5",
   "metadata": {},
   "outputs": [
    {
     "data": {
      "text/html": [
       "<div>\n",
       "<style scoped>\n",
       "    .dataframe tbody tr th:only-of-type {\n",
       "        vertical-align: middle;\n",
       "    }\n",
       "\n",
       "    .dataframe tbody tr th {\n",
       "        vertical-align: top;\n",
       "    }\n",
       "\n",
       "    .dataframe thead th {\n",
       "        text-align: right;\n",
       "    }\n",
       "</style>\n",
       "<table border=\"1\" class=\"dataframe\">\n",
       "  <thead>\n",
       "    <tr style=\"text-align: right;\">\n",
       "      <th></th>\n",
       "      <th>children</th>\n",
       "      <th>days_employed</th>\n",
       "      <th>dob_years</th>\n",
       "      <th>education_id</th>\n",
       "      <th>family_status_id</th>\n",
       "      <th>debt</th>\n",
       "      <th>total_income</th>\n",
       "    </tr>\n",
       "  </thead>\n",
       "  <tbody>\n",
       "    <tr>\n",
       "      <th>count</th>\n",
       "      <td>21525.00</td>\n",
       "      <td>19351.00</td>\n",
       "      <td>21525.00</td>\n",
       "      <td>21525.00</td>\n",
       "      <td>21525.00</td>\n",
       "      <td>21525.00</td>\n",
       "      <td>19351.00</td>\n",
       "    </tr>\n",
       "    <tr>\n",
       "      <th>mean</th>\n",
       "      <td>0.54</td>\n",
       "      <td>63046.50</td>\n",
       "      <td>43.29</td>\n",
       "      <td>0.82</td>\n",
       "      <td>0.97</td>\n",
       "      <td>0.08</td>\n",
       "      <td>26787.57</td>\n",
       "    </tr>\n",
       "    <tr>\n",
       "      <th>std</th>\n",
       "      <td>1.38</td>\n",
       "      <td>140827.31</td>\n",
       "      <td>12.57</td>\n",
       "      <td>0.55</td>\n",
       "      <td>1.42</td>\n",
       "      <td>0.27</td>\n",
       "      <td>16475.45</td>\n",
       "    </tr>\n",
       "    <tr>\n",
       "      <th>min</th>\n",
       "      <td>-1.00</td>\n",
       "      <td>-18388.95</td>\n",
       "      <td>0.00</td>\n",
       "      <td>0.00</td>\n",
       "      <td>0.00</td>\n",
       "      <td>0.00</td>\n",
       "      <td>3306.76</td>\n",
       "    </tr>\n",
       "    <tr>\n",
       "      <th>25%</th>\n",
       "      <td>0.00</td>\n",
       "      <td>-2747.42</td>\n",
       "      <td>33.00</td>\n",
       "      <td>1.00</td>\n",
       "      <td>0.00</td>\n",
       "      <td>0.00</td>\n",
       "      <td>16488.50</td>\n",
       "    </tr>\n",
       "    <tr>\n",
       "      <th>50%</th>\n",
       "      <td>0.00</td>\n",
       "      <td>-1203.37</td>\n",
       "      <td>42.00</td>\n",
       "      <td>1.00</td>\n",
       "      <td>0.00</td>\n",
       "      <td>0.00</td>\n",
       "      <td>23202.87</td>\n",
       "    </tr>\n",
       "    <tr>\n",
       "      <th>75%</th>\n",
       "      <td>1.00</td>\n",
       "      <td>-291.10</td>\n",
       "      <td>53.00</td>\n",
       "      <td>1.00</td>\n",
       "      <td>1.00</td>\n",
       "      <td>0.00</td>\n",
       "      <td>32549.61</td>\n",
       "    </tr>\n",
       "    <tr>\n",
       "      <th>max</th>\n",
       "      <td>20.00</td>\n",
       "      <td>401755.40</td>\n",
       "      <td>75.00</td>\n",
       "      <td>4.00</td>\n",
       "      <td>4.00</td>\n",
       "      <td>1.00</td>\n",
       "      <td>362496.64</td>\n",
       "    </tr>\n",
       "  </tbody>\n",
       "</table>\n",
       "</div>"
      ],
      "text/plain": [
       "       children  days_employed  dob_years  education_id  family_status_id  \\\n",
       "count  21525.00       19351.00   21525.00      21525.00          21525.00   \n",
       "mean       0.54       63046.50      43.29          0.82              0.97   \n",
       "std        1.38      140827.31      12.57          0.55              1.42   \n",
       "min       -1.00      -18388.95       0.00          0.00              0.00   \n",
       "25%        0.00       -2747.42      33.00          1.00              0.00   \n",
       "50%        0.00       -1203.37      42.00          1.00              0.00   \n",
       "75%        1.00        -291.10      53.00          1.00              1.00   \n",
       "max       20.00      401755.40      75.00          4.00              4.00   \n",
       "\n",
       "           debt  total_income  \n",
       "count  21525.00      19351.00  \n",
       "mean       0.08      26787.57  \n",
       "std        0.27      16475.45  \n",
       "min        0.00       3306.76  \n",
       "25%        0.00      16488.50  \n",
       "50%        0.00      23202.87  \n",
       "75%        0.00      32549.61  \n",
       "max        1.00     362496.64  "
      ]
     },
     "execution_count": 5,
     "metadata": {},
     "output_type": "execute_result"
    }
   ],
   "source": [
    "#check the description of the dataset\n",
    "round(credit_scoring.describe(), 2)"
   ]
  },
  {
   "cell_type": "code",
   "execution_count": 6,
   "id": "66f19e34",
   "metadata": {
    "scrolled": false
   },
   "outputs": [
    {
     "data": {
      "text/plain": [
       "children               0\n",
       "days_employed       2174\n",
       "dob_years              0\n",
       "education              0\n",
       "education_id           0\n",
       "family_status          0\n",
       "family_status_id       0\n",
       "gender                 0\n",
       "income_type            0\n",
       "debt                   0\n",
       "total_income        2174\n",
       "purpose                0\n",
       "dtype: int64"
      ]
     },
     "execution_count": 6,
     "metadata": {},
     "output_type": "execute_result"
    }
   ],
   "source": [
    "#check the null value\n",
    "credit_scoring.isna().sum()"
   ]
  },
  {
   "cell_type": "markdown",
   "id": "84f5c96b",
   "metadata": {},
   "source": [
    "## Distribusi Data yang Hilang <a id='null-distribution'></a>"
   ]
  },
  {
   "cell_type": "code",
   "execution_count": 7,
   "id": "80ca8bef",
   "metadata": {},
   "outputs": [
    {
     "data": {
      "text/html": [
       "<div>\n",
       "<style scoped>\n",
       "    .dataframe tbody tr th:only-of-type {\n",
       "        vertical-align: middle;\n",
       "    }\n",
       "\n",
       "    .dataframe tbody tr th {\n",
       "        vertical-align: top;\n",
       "    }\n",
       "\n",
       "    .dataframe thead th {\n",
       "        text-align: right;\n",
       "    }\n",
       "</style>\n",
       "<table border=\"1\" class=\"dataframe\">\n",
       "  <thead>\n",
       "    <tr style=\"text-align: right;\">\n",
       "      <th></th>\n",
       "      <th>children</th>\n",
       "      <th>days_employed</th>\n",
       "      <th>dob_years</th>\n",
       "      <th>education</th>\n",
       "      <th>education_id</th>\n",
       "      <th>family_status</th>\n",
       "      <th>family_status_id</th>\n",
       "      <th>gender</th>\n",
       "      <th>income_type</th>\n",
       "      <th>debt</th>\n",
       "      <th>total_income</th>\n",
       "      <th>purpose</th>\n",
       "    </tr>\n",
       "  </thead>\n",
       "  <tbody>\n",
       "    <tr>\n",
       "      <th>0</th>\n",
       "      <td>0</td>\n",
       "      <td>NaN</td>\n",
       "      <td>65</td>\n",
       "      <td>secondary education</td>\n",
       "      <td>1</td>\n",
       "      <td>civil partnership</td>\n",
       "      <td>1</td>\n",
       "      <td>M</td>\n",
       "      <td>retiree</td>\n",
       "      <td>0</td>\n",
       "      <td>NaN</td>\n",
       "      <td>to have a wedding</td>\n",
       "    </tr>\n",
       "    <tr>\n",
       "      <th>1</th>\n",
       "      <td>0</td>\n",
       "      <td>NaN</td>\n",
       "      <td>41</td>\n",
       "      <td>secondary education</td>\n",
       "      <td>1</td>\n",
       "      <td>married</td>\n",
       "      <td>0</td>\n",
       "      <td>M</td>\n",
       "      <td>civil servant</td>\n",
       "      <td>0</td>\n",
       "      <td>NaN</td>\n",
       "      <td>education</td>\n",
       "    </tr>\n",
       "    <tr>\n",
       "      <th>2</th>\n",
       "      <td>0</td>\n",
       "      <td>NaN</td>\n",
       "      <td>63</td>\n",
       "      <td>secondary education</td>\n",
       "      <td>1</td>\n",
       "      <td>unmarried</td>\n",
       "      <td>4</td>\n",
       "      <td>F</td>\n",
       "      <td>retiree</td>\n",
       "      <td>0</td>\n",
       "      <td>NaN</td>\n",
       "      <td>building a real estate</td>\n",
       "    </tr>\n",
       "    <tr>\n",
       "      <th>3</th>\n",
       "      <td>0</td>\n",
       "      <td>NaN</td>\n",
       "      <td>50</td>\n",
       "      <td>secondary education</td>\n",
       "      <td>1</td>\n",
       "      <td>married</td>\n",
       "      <td>0</td>\n",
       "      <td>F</td>\n",
       "      <td>civil servant</td>\n",
       "      <td>0</td>\n",
       "      <td>NaN</td>\n",
       "      <td>second-hand car purchase</td>\n",
       "    </tr>\n",
       "    <tr>\n",
       "      <th>4</th>\n",
       "      <td>0</td>\n",
       "      <td>NaN</td>\n",
       "      <td>54</td>\n",
       "      <td>secondary education</td>\n",
       "      <td>1</td>\n",
       "      <td>civil partnership</td>\n",
       "      <td>1</td>\n",
       "      <td>F</td>\n",
       "      <td>retiree</td>\n",
       "      <td>1</td>\n",
       "      <td>NaN</td>\n",
       "      <td>to have a wedding</td>\n",
       "    </tr>\n",
       "  </tbody>\n",
       "</table>\n",
       "</div>"
      ],
      "text/plain": [
       "   children  days_employed  dob_years            education  education_id  \\\n",
       "0         0            NaN         65  secondary education             1   \n",
       "1         0            NaN         41  secondary education             1   \n",
       "2         0            NaN         63  secondary education             1   \n",
       "3         0            NaN         50  secondary education             1   \n",
       "4         0            NaN         54  secondary education             1   \n",
       "\n",
       "       family_status  family_status_id gender    income_type  debt  \\\n",
       "0  civil partnership                 1      M        retiree     0   \n",
       "1            married                 0      M  civil servant     0   \n",
       "2          unmarried                 4      F        retiree     0   \n",
       "3            married                 0      F  civil servant     0   \n",
       "4  civil partnership                 1      F        retiree     1   \n",
       "\n",
       "   total_income                   purpose  \n",
       "0           NaN         to have a wedding  \n",
       "1           NaN                 education  \n",
       "2           NaN    building a real estate  \n",
       "3           NaN  second-hand car purchase  \n",
       "4           NaN         to have a wedding  "
      ]
     },
     "execution_count": 7,
     "metadata": {},
     "output_type": "execute_result"
    }
   ],
   "source": [
    "#create a new dataset that contains null value\n",
    "credit_scoring_null = credit_scoring[(credit_scoring['days_employed'].isna()) & credit_scoring['total_income'].isna()].reset_index(drop=True)\n",
    "\n",
    "#check the dataset\n",
    "credit_scoring_null.head()"
   ]
  },
  {
   "cell_type": "code",
   "execution_count": 8,
   "id": "0e69f066",
   "metadata": {},
   "outputs": [
    {
     "data": {
      "text/plain": [
       "34    3.17\n",
       "40    3.04\n",
       "42    2.99\n",
       "31    2.99\n",
       "35    2.94\n",
       "Name: dob_years, dtype: float64"
      ]
     },
     "execution_count": 8,
     "metadata": {},
     "output_type": "execute_result"
    }
   ],
   "source": [
    "#column 'dob_years'\n",
    "round((credit_scoring_null['dob_years'].value_counts(normalize=True) * 100).sort_values(ascending=False), 2).head()"
   ]
  },
  {
   "cell_type": "code",
   "execution_count": 9,
   "id": "5202d5d1",
   "metadata": {},
   "outputs": [
    {
     "data": {
      "text/plain": [
       "secondary education    64.77\n",
       "bachelor's degree      22.82\n",
       "SECONDARY EDUCATION     3.08\n",
       "Secondary Education     2.99\n",
       "some college            2.53\n",
       "Name: education, dtype: float64"
      ]
     },
     "execution_count": 9,
     "metadata": {},
     "output_type": "execute_result"
    }
   ],
   "source": [
    "#column 'education'\n",
    "round((credit_scoring_null['education'].value_counts(normalize=True) * 100).sort_values(ascending=False), 2).head()"
   ]
  },
  {
   "cell_type": "code",
   "execution_count": 10,
   "id": "d5140a7d",
   "metadata": {},
   "outputs": [
    {
     "data": {
      "text/plain": [
       "married              56.90\n",
       "civil partnership    20.33\n",
       "unmarried            13.25\n",
       "divorced              5.15\n",
       "widow / widower       4.37\n",
       "Name: family_status, dtype: float64"
      ]
     },
     "execution_count": 10,
     "metadata": {},
     "output_type": "execute_result"
    }
   ],
   "source": [
    "#column 'family_status'\n",
    "round((credit_scoring_null['family_status'].value_counts(normalize=True) * 100).sort_values(ascending=False), 2).head()"
   ]
  },
  {
   "cell_type": "code",
   "execution_count": 11,
   "id": "db86e265",
   "metadata": {
    "scrolled": true
   },
   "outputs": [
    {
     "data": {
      "text/plain": [
       "F    68.26\n",
       "M    31.74\n",
       "Name: gender, dtype: float64"
      ]
     },
     "execution_count": 11,
     "metadata": {},
     "output_type": "execute_result"
    }
   ],
   "source": [
    "#column'gender'\n",
    "round((credit_scoring_null['gender'].value_counts(normalize=True) * 100).sort_values(ascending=False), 2).head()"
   ]
  },
  {
   "cell_type": "code",
   "execution_count": 12,
   "id": "5b8a6d2c",
   "metadata": {},
   "outputs": [
    {
     "data": {
      "text/plain": [
       "employee         50.83\n",
       "business         23.37\n",
       "retiree          19.00\n",
       "civil servant     6.76\n",
       "entrepreneur      0.05\n",
       "Name: income_type, dtype: float64"
      ]
     },
     "execution_count": 12,
     "metadata": {},
     "output_type": "execute_result"
    }
   ],
   "source": [
    "#column 'income_type'\n",
    "round((credit_scoring_null['income_type'].value_counts(normalize=True) * 100).sort_values(ascending=False), 2).head()"
   ]
  },
  {
   "cell_type": "code",
   "execution_count": 13,
   "id": "bd03085f",
   "metadata": {},
   "outputs": [
    {
     "data": {
      "text/plain": [
       "having a wedding                4.23\n",
       "to have a wedding               3.73\n",
       "wedding ceremony                3.50\n",
       "construction of own property    3.45\n",
       "housing transactions            3.40\n",
       "Name: purpose, dtype: float64"
      ]
     },
     "execution_count": 13,
     "metadata": {},
     "output_type": "execute_result"
    }
   ],
   "source": [
    "#column 'purpose'\n",
    "round((credit_scoring_null['purpose'].value_counts(normalize=True) * 100).sort_values(ascending=False), 2).head()"
   ]
  },
  {
   "cell_type": "markdown",
   "id": "eafdc8e7",
   "metadata": {},
   "source": [
    "Dari data diatas, pada kolom `purpose` dapat dilihat bahwa ada beberapa tujuan kredit yang memiliki entri berbeda namun sebenarnya memiliki tujuan yang sama. Sehingga lebih baik disatukan saja."
   ]
  },
  {
   "cell_type": "code",
   "execution_count": 14,
   "id": "5d1982b3",
   "metadata": {
    "scrolled": true
   },
   "outputs": [
    {
     "data": {
      "text/plain": [
       "array(['house', 'car purchase', 'supplementary education',\n",
       "       'to have a wedding', 'education', 'having a wedding',\n",
       "       'buying a second-hand car', 'buying my own car', 'cars',\n",
       "       'to become educated', 'second-hand car purchase',\n",
       "       'getting an education', 'car', 'wedding ceremony',\n",
       "       'to get a supplementary education', 'getting higher education',\n",
       "       'to own a car', 'purchase of a car', 'profile education',\n",
       "       'university education', 'to buy a car', 'going to university'],\n",
       "      dtype=object)"
      ]
     },
     "execution_count": 14,
     "metadata": {},
     "output_type": "execute_result"
    }
   ],
   "source": [
    "#categorize the purpose under house\n",
    "credit_scoring.loc[credit_scoring['purpose'].isin(['building a property','building a real estate',\n",
    "                                                   'buy commercial real estate','buy real estate', 'buy residential real estate','buying property for renting out','construction of own property','housing','housing renovation',\n",
    "                                                   'housing transactions','purchase of my own house','purchase of the house',\n",
    "                                                   'purchase of the house for my family','real estate transactions','transactions with commercial real estate',\n",
    "                                                   'transactions with my real estate','property']), 'purpose'] = 'house'\n",
    "#check the dataset\n",
    "credit_scoring['purpose'].unique()"
   ]
  },
  {
   "cell_type": "code",
   "execution_count": 15,
   "id": "4238a5f5",
   "metadata": {
    "scrolled": true
   },
   "outputs": [
    {
     "data": {
      "text/plain": [
       "array(['house', 'cars', 'supplementary education', 'to have a wedding',\n",
       "       'education', 'having a wedding', 'to become educated',\n",
       "       'getting an education', 'wedding ceremony',\n",
       "       'to get a supplementary education', 'getting higher education',\n",
       "       'profile education', 'university education', 'going to university'],\n",
       "      dtype=object)"
      ]
     },
     "execution_count": 15,
     "metadata": {},
     "output_type": "execute_result"
    }
   ],
   "source": [
    "#categorize the purpose under cars\n",
    "credit_scoring.loc[credit_scoring['purpose'].isin(['buying a second-hand car','buying my own car','car','car purchase','purchase of a car','second-hand car purchase','to buy a car','to own a car']), 'purpose'] = 'cars'\n",
    "\n",
    "#check the dataset\n",
    "credit_scoring['purpose'].unique()"
   ]
  },
  {
   "cell_type": "code",
   "execution_count": 16,
   "id": "6d3864fa",
   "metadata": {
    "scrolled": true
   },
   "outputs": [
    {
     "data": {
      "text/plain": [
       "array(['house', 'cars', 'education', 'to have a wedding',\n",
       "       'having a wedding', 'wedding ceremony'], dtype=object)"
      ]
     },
     "execution_count": 16,
     "metadata": {},
     "output_type": "execute_result"
    }
   ],
   "source": [
    "#categorize the purpose under education\n",
    "credit_scoring.loc[credit_scoring['purpose'].isin(['getting an education','getting higher education','going to university','profile education','supplementary education','to become educated','to get a supplementary education','university education']), 'purpose'] = 'education'\n",
    "\n",
    "#check the dataset\n",
    "credit_scoring['purpose'].unique()"
   ]
  },
  {
   "cell_type": "code",
   "execution_count": 17,
   "id": "f83e887c",
   "metadata": {},
   "outputs": [
    {
     "data": {
      "text/plain": [
       "array(['house', 'cars', 'education', 'wedding'], dtype=object)"
      ]
     },
     "execution_count": 17,
     "metadata": {},
     "output_type": "execute_result"
    }
   ],
   "source": [
    "#categorize the purpose under wedding\n",
    "credit_scoring.loc[credit_scoring['purpose'].isin(['having a wedding','to have a wedding','wedding ceremony']), 'purpose'] = 'wedding'\n",
    "\n",
    "#check the dataset\n",
    "credit_scoring['purpose'].unique()"
   ]
  },
  {
   "cell_type": "markdown",
   "id": "9aef1314",
   "metadata": {},
   "source": [
    "Sehingga bisa dilihat kembali distribusi data yang hilang untuk kolom `purpose`"
   ]
  },
  {
   "cell_type": "code",
   "execution_count": 18,
   "id": "4cefd734",
   "metadata": {},
   "outputs": [
    {
     "data": {
      "text/html": [
       "<div>\n",
       "<style scoped>\n",
       "    .dataframe tbody tr th:only-of-type {\n",
       "        vertical-align: middle;\n",
       "    }\n",
       "\n",
       "    .dataframe tbody tr th {\n",
       "        vertical-align: top;\n",
       "    }\n",
       "\n",
       "    .dataframe thead th {\n",
       "        text-align: right;\n",
       "    }\n",
       "</style>\n",
       "<table border=\"1\" class=\"dataframe\">\n",
       "  <thead>\n",
       "    <tr style=\"text-align: right;\">\n",
       "      <th></th>\n",
       "      <th>children</th>\n",
       "      <th>days_employed</th>\n",
       "      <th>dob_years</th>\n",
       "      <th>education</th>\n",
       "      <th>education_id</th>\n",
       "      <th>family_status</th>\n",
       "      <th>family_status_id</th>\n",
       "      <th>gender</th>\n",
       "      <th>income_type</th>\n",
       "      <th>debt</th>\n",
       "      <th>total_income</th>\n",
       "      <th>purpose</th>\n",
       "    </tr>\n",
       "  </thead>\n",
       "  <tbody>\n",
       "    <tr>\n",
       "      <th>0</th>\n",
       "      <td>0</td>\n",
       "      <td>NaN</td>\n",
       "      <td>65</td>\n",
       "      <td>secondary education</td>\n",
       "      <td>1</td>\n",
       "      <td>civil partnership</td>\n",
       "      <td>1</td>\n",
       "      <td>M</td>\n",
       "      <td>retiree</td>\n",
       "      <td>0</td>\n",
       "      <td>NaN</td>\n",
       "      <td>wedding</td>\n",
       "    </tr>\n",
       "    <tr>\n",
       "      <th>1</th>\n",
       "      <td>0</td>\n",
       "      <td>NaN</td>\n",
       "      <td>41</td>\n",
       "      <td>secondary education</td>\n",
       "      <td>1</td>\n",
       "      <td>married</td>\n",
       "      <td>0</td>\n",
       "      <td>M</td>\n",
       "      <td>civil servant</td>\n",
       "      <td>0</td>\n",
       "      <td>NaN</td>\n",
       "      <td>education</td>\n",
       "    </tr>\n",
       "    <tr>\n",
       "      <th>2</th>\n",
       "      <td>0</td>\n",
       "      <td>NaN</td>\n",
       "      <td>63</td>\n",
       "      <td>secondary education</td>\n",
       "      <td>1</td>\n",
       "      <td>unmarried</td>\n",
       "      <td>4</td>\n",
       "      <td>F</td>\n",
       "      <td>retiree</td>\n",
       "      <td>0</td>\n",
       "      <td>NaN</td>\n",
       "      <td>house</td>\n",
       "    </tr>\n",
       "    <tr>\n",
       "      <th>3</th>\n",
       "      <td>0</td>\n",
       "      <td>NaN</td>\n",
       "      <td>50</td>\n",
       "      <td>secondary education</td>\n",
       "      <td>1</td>\n",
       "      <td>married</td>\n",
       "      <td>0</td>\n",
       "      <td>F</td>\n",
       "      <td>civil servant</td>\n",
       "      <td>0</td>\n",
       "      <td>NaN</td>\n",
       "      <td>cars</td>\n",
       "    </tr>\n",
       "    <tr>\n",
       "      <th>4</th>\n",
       "      <td>0</td>\n",
       "      <td>NaN</td>\n",
       "      <td>54</td>\n",
       "      <td>secondary education</td>\n",
       "      <td>1</td>\n",
       "      <td>civil partnership</td>\n",
       "      <td>1</td>\n",
       "      <td>F</td>\n",
       "      <td>retiree</td>\n",
       "      <td>1</td>\n",
       "      <td>NaN</td>\n",
       "      <td>wedding</td>\n",
       "    </tr>\n",
       "  </tbody>\n",
       "</table>\n",
       "</div>"
      ],
      "text/plain": [
       "   children  days_employed  dob_years            education  education_id  \\\n",
       "0         0            NaN         65  secondary education             1   \n",
       "1         0            NaN         41  secondary education             1   \n",
       "2         0            NaN         63  secondary education             1   \n",
       "3         0            NaN         50  secondary education             1   \n",
       "4         0            NaN         54  secondary education             1   \n",
       "\n",
       "       family_status  family_status_id gender    income_type  debt  \\\n",
       "0  civil partnership                 1      M        retiree     0   \n",
       "1            married                 0      M  civil servant     0   \n",
       "2          unmarried                 4      F        retiree     0   \n",
       "3            married                 0      F  civil servant     0   \n",
       "4  civil partnership                 1      F        retiree     1   \n",
       "\n",
       "   total_income    purpose  \n",
       "0           NaN    wedding  \n",
       "1           NaN  education  \n",
       "2           NaN      house  \n",
       "3           NaN       cars  \n",
       "4           NaN    wedding  "
      ]
     },
     "execution_count": 18,
     "metadata": {},
     "output_type": "execute_result"
    }
   ],
   "source": [
    "#renew the dataset\n",
    "credit_scoring_null = credit_scoring[(credit_scoring['days_employed'].isna()) & credit_scoring['total_income'].isna()].reset_index(drop=True)\n",
    "\n",
    "#check the dataset\n",
    "credit_scoring_null.head()"
   ]
  },
  {
   "cell_type": "code",
   "execution_count": 19,
   "id": "8b913447",
   "metadata": {},
   "outputs": [
    {
     "data": {
      "text/plain": [
       "house        49.77\n",
       "education    19.55\n",
       "cars         19.23\n",
       "wedding      11.45\n",
       "Name: purpose, dtype: float64"
      ]
     },
     "execution_count": 19,
     "metadata": {},
     "output_type": "execute_result"
    }
   ],
   "source": [
    "#column 'purpose'\n",
    "round((credit_scoring_null['purpose'].value_counts(normalize=True) * 100).sort_values(ascending=False), 2).head()"
   ]
  },
  {
   "cell_type": "markdown",
   "id": "1b8d3b99",
   "metadata": {},
   "source": [
    "## Kesimpulan Dataset Sementara <a id='summary-data'></a>\n",
    "\n",
    "Dari hasil eksplorasi data, dapat disimpulkan bahwa:\n",
    "1. Dari data.head, dapat dilihat bahwa kolom `education` memiliki beberapa entri yang menggunakan huruf kapital\n",
    "2. Dataset mempunyai 12 kolom dan 21.525 entri\n",
    "3. Terdapat nilai minus pada kolom `days_employed` dan `children` dimana tidak mungkin bahwa jumlah waktu bekerja dan jumlah anak adalah minus\n",
    "4. Terdapat nilai yang tidak masuk akal pada kolom `dob_years` dimana ada nasabah dengan usia 0\n",
    "5. Terdapat nilai yang hilang di kolom `days_employed` dan `total_income`\n",
    "6. Tipe dataset ada yang tidak sesuai:\n",
    "    - Pada kolom `days_employed` seharusnya tipe data int karena tidak masuk akal jika waktu bekerja dihitung dalam desimal (float)\n",
    "7. Data yang hilang paling banyak berdasarkan kolom adalah:\n",
    "    - dob_years = 34 tahun (3,17%)\n",
    "    - education = secondary education (70,84%)\n",
    "    - family_status = married (56,9%)\n",
    "    - gender = female (68,26%)\n",
    "    - income_type = employee (50,83%)\n",
    "    - purpose = house (49,77%)\n",
    "\n",
    "\n",
    "Kesimpulan ini bersifat sementara dan masih bisa menemukan beberapa masalah yang dapat terjadi pada saat analisis. "
   ]
  },
  {
   "cell_type": "markdown",
   "id": "865474e3",
   "metadata": {},
   "source": [
    "# Pra-Pemrosesan Data <a id='praprocessing'></a>\n",
    "\n",
    "## Menyetarakan Entri di Kolom `education` <a id='lower-education'></a>"
   ]
  },
  {
   "cell_type": "code",
   "execution_count": 20,
   "id": "70f4e0d6",
   "metadata": {},
   "outputs": [
    {
     "data": {
      "text/html": [
       "<div>\n",
       "<style scoped>\n",
       "    .dataframe tbody tr th:only-of-type {\n",
       "        vertical-align: middle;\n",
       "    }\n",
       "\n",
       "    .dataframe tbody tr th {\n",
       "        vertical-align: top;\n",
       "    }\n",
       "\n",
       "    .dataframe thead th {\n",
       "        text-align: right;\n",
       "    }\n",
       "</style>\n",
       "<table border=\"1\" class=\"dataframe\">\n",
       "  <thead>\n",
       "    <tr style=\"text-align: right;\">\n",
       "      <th></th>\n",
       "      <th>children</th>\n",
       "      <th>days_employed</th>\n",
       "      <th>dob_years</th>\n",
       "      <th>education</th>\n",
       "      <th>education_id</th>\n",
       "      <th>family_status</th>\n",
       "      <th>family_status_id</th>\n",
       "      <th>gender</th>\n",
       "      <th>income_type</th>\n",
       "      <th>debt</th>\n",
       "      <th>total_income</th>\n",
       "      <th>purpose</th>\n",
       "    </tr>\n",
       "  </thead>\n",
       "  <tbody>\n",
       "    <tr>\n",
       "      <th>0</th>\n",
       "      <td>1</td>\n",
       "      <td>-8437.673028</td>\n",
       "      <td>42</td>\n",
       "      <td>bachelor's degree</td>\n",
       "      <td>0</td>\n",
       "      <td>married</td>\n",
       "      <td>0</td>\n",
       "      <td>F</td>\n",
       "      <td>employee</td>\n",
       "      <td>0</td>\n",
       "      <td>40620.102</td>\n",
       "      <td>house</td>\n",
       "    </tr>\n",
       "    <tr>\n",
       "      <th>1</th>\n",
       "      <td>1</td>\n",
       "      <td>-4024.803754</td>\n",
       "      <td>36</td>\n",
       "      <td>secondary education</td>\n",
       "      <td>1</td>\n",
       "      <td>married</td>\n",
       "      <td>0</td>\n",
       "      <td>F</td>\n",
       "      <td>employee</td>\n",
       "      <td>0</td>\n",
       "      <td>17932.802</td>\n",
       "      <td>cars</td>\n",
       "    </tr>\n",
       "    <tr>\n",
       "      <th>2</th>\n",
       "      <td>0</td>\n",
       "      <td>-5623.422610</td>\n",
       "      <td>33</td>\n",
       "      <td>secondary education</td>\n",
       "      <td>1</td>\n",
       "      <td>married</td>\n",
       "      <td>0</td>\n",
       "      <td>M</td>\n",
       "      <td>employee</td>\n",
       "      <td>0</td>\n",
       "      <td>23341.752</td>\n",
       "      <td>house</td>\n",
       "    </tr>\n",
       "    <tr>\n",
       "      <th>3</th>\n",
       "      <td>3</td>\n",
       "      <td>-4124.747207</td>\n",
       "      <td>32</td>\n",
       "      <td>secondary education</td>\n",
       "      <td>1</td>\n",
       "      <td>married</td>\n",
       "      <td>0</td>\n",
       "      <td>M</td>\n",
       "      <td>employee</td>\n",
       "      <td>0</td>\n",
       "      <td>42820.568</td>\n",
       "      <td>education</td>\n",
       "    </tr>\n",
       "    <tr>\n",
       "      <th>4</th>\n",
       "      <td>0</td>\n",
       "      <td>340266.072047</td>\n",
       "      <td>53</td>\n",
       "      <td>secondary education</td>\n",
       "      <td>1</td>\n",
       "      <td>civil partnership</td>\n",
       "      <td>1</td>\n",
       "      <td>F</td>\n",
       "      <td>retiree</td>\n",
       "      <td>0</td>\n",
       "      <td>25378.572</td>\n",
       "      <td>wedding</td>\n",
       "    </tr>\n",
       "  </tbody>\n",
       "</table>\n",
       "</div>"
      ],
      "text/plain": [
       "   children  days_employed  dob_years            education  education_id  \\\n",
       "0         1   -8437.673028         42    bachelor's degree             0   \n",
       "1         1   -4024.803754         36  secondary education             1   \n",
       "2         0   -5623.422610         33  secondary education             1   \n",
       "3         3   -4124.747207         32  secondary education             1   \n",
       "4         0  340266.072047         53  secondary education             1   \n",
       "\n",
       "       family_status  family_status_id gender income_type  debt  total_income  \\\n",
       "0            married                 0      F    employee     0     40620.102   \n",
       "1            married                 0      F    employee     0     17932.802   \n",
       "2            married                 0      M    employee     0     23341.752   \n",
       "3            married                 0      M    employee     0     42820.568   \n",
       "4  civil partnership                 1      F     retiree     0     25378.572   \n",
       "\n",
       "     purpose  \n",
       "0      house  \n",
       "1       cars  \n",
       "2      house  \n",
       "3  education  \n",
       "4    wedding  "
      ]
     },
     "execution_count": 20,
     "metadata": {},
     "output_type": "execute_result"
    }
   ],
   "source": [
    "#lowercase entries in column education\n",
    "credit_scoring['education'] = credit_scoring['education'].str.lower()\n",
    "\n",
    "#check the dataset\n",
    "credit_scoring.head()"
   ]
  },
  {
   "cell_type": "markdown",
   "id": "934e0079",
   "metadata": {},
   "source": [
    "## Transformasi Data <a id='transformation'></a>\n",
    "\n",
    "Pada kesimpulan sebelumnya, terdapat beberapa masalah terutama adanya nilai yang tidak masuk akal sehingga masalah tersebut perlu ditangani terlebih dahulu\n",
    "\n",
    "### Kolom : `children` <a id='transformation-children'></a>\n",
    "\n",
    "Dari kesimpulan sebelumnya, kolom `children` memiliki nilai yang tidak masuk akal yaitu nilai minus dan pada satu keluarga ada 20 anak. Secara logika, tidak mungkin sebuah keluarga memiliki anak dengan nilai minus dan pada zaman sekarang sangat jarang keluarga dengan anak sebanyak 20 orang. Salah satu kemungkinan dari nilai yang aneh ini adalah kesalahan dalam input data atau penulisan (typo)."
   ]
  },
  {
   "cell_type": "code",
   "execution_count": 21,
   "id": "c5b56204",
   "metadata": {},
   "outputs": [
    {
     "data": {
      "text/plain": [
       " 0     14149\n",
       " 1      4818\n",
       " 2      2055\n",
       " 3       330\n",
       " 20       76\n",
       "-1        47\n",
       " 4        41\n",
       " 5         9\n",
       "Name: children, dtype: int64"
      ]
     },
     "execution_count": 21,
     "metadata": {},
     "output_type": "execute_result"
    }
   ],
   "source": [
    "#check the dataset\n",
    "credit_scoring['children'].value_counts()"
   ]
  },
  {
   "cell_type": "code",
   "execution_count": 22,
   "id": "e152a5d2",
   "metadata": {},
   "outputs": [
    {
     "data": {
      "text/plain": [
       "array([1, 0, 3, 2, 4, 5], dtype=int64)"
      ]
     },
     "execution_count": 22,
     "metadata": {},
     "output_type": "execute_result"
    }
   ],
   "source": [
    "#replace the data\n",
    "credit_scoring['children'] = credit_scoring['children'].abs()\n",
    "credit_scoring['children'] = credit_scoring['children'].replace([20], 2)\n",
    "\n",
    "#check the dataset\n",
    "credit_scoring['children'].unique()"
   ]
  },
  {
   "cell_type": "markdown",
   "id": "6c6bf477",
   "metadata": {},
   "source": [
    "### Kolom : `days_employed` <a id='transformation-daysemployed'></a>\n",
    "\n",
    "Dari kesimpulan sebelumnya, ada beberapa data pada kolom `days_employed` yang memiliki nilai negatif. Secara logika, tidak mungkin seseorang bekerja selama minus x hari. Selain itu, tipe data pada kolom `days_employed` adalah float dimana tidak masuk akal apabila seseorang telah bekerja selama 0,x hari."
   ]
  },
  {
   "cell_type": "code",
   "execution_count": 23,
   "id": "fd473d40",
   "metadata": {},
   "outputs": [
    {
     "name": "stdout",
     "output_type": "stream",
     "text": [
      "73.9\n"
     ]
    }
   ],
   "source": [
    "#check the presentage of odd value\n",
    "days_null = len(credit_scoring.loc[credit_scoring['days_employed'] < 0])\n",
    "percentage_days_null = days_null / len(credit_scoring) * 100\n",
    "print (round(percentage_days_null, 2))"
   ]
  },
  {
   "cell_type": "code",
   "execution_count": 24,
   "id": "e4c80336",
   "metadata": {},
   "outputs": [
    {
     "data": {
      "text/html": [
       "<div>\n",
       "<style scoped>\n",
       "    .dataframe tbody tr th:only-of-type {\n",
       "        vertical-align: middle;\n",
       "    }\n",
       "\n",
       "    .dataframe tbody tr th {\n",
       "        vertical-align: top;\n",
       "    }\n",
       "\n",
       "    .dataframe thead th {\n",
       "        text-align: right;\n",
       "    }\n",
       "</style>\n",
       "<table border=\"1\" class=\"dataframe\">\n",
       "  <thead>\n",
       "    <tr style=\"text-align: right;\">\n",
       "      <th></th>\n",
       "      <th>children</th>\n",
       "      <th>days_employed</th>\n",
       "      <th>dob_years</th>\n",
       "      <th>education</th>\n",
       "      <th>education_id</th>\n",
       "      <th>family_status</th>\n",
       "      <th>family_status_id</th>\n",
       "      <th>gender</th>\n",
       "      <th>income_type</th>\n",
       "      <th>debt</th>\n",
       "      <th>total_income</th>\n",
       "      <th>purpose</th>\n",
       "    </tr>\n",
       "  </thead>\n",
       "  <tbody>\n",
       "  </tbody>\n",
       "</table>\n",
       "</div>"
      ],
      "text/plain": [
       "Empty DataFrame\n",
       "Columns: [children, days_employed, dob_years, education, education_id, family_status, family_status_id, gender, income_type, debt, total_income, purpose]\n",
       "Index: []"
      ]
     },
     "execution_count": 24,
     "metadata": {},
     "output_type": "execute_result"
    }
   ],
   "source": [
    "#replace the odd data\n",
    "credit_scoring['days_employed'] = credit_scoring['days_employed'].abs()\n",
    "\n",
    "#check the dataset\n",
    "credit_scoring.loc[credit_scoring['days_employed'] < 0]"
   ]
  },
  {
   "cell_type": "code",
   "execution_count": 25,
   "id": "3da9e997",
   "metadata": {
    "scrolled": false
   },
   "outputs": [
    {
     "data": {
      "text/html": [
       "<div>\n",
       "<style scoped>\n",
       "    .dataframe tbody tr th:only-of-type {\n",
       "        vertical-align: middle;\n",
       "    }\n",
       "\n",
       "    .dataframe tbody tr th {\n",
       "        vertical-align: top;\n",
       "    }\n",
       "\n",
       "    .dataframe thead th {\n",
       "        text-align: right;\n",
       "    }\n",
       "</style>\n",
       "<table border=\"1\" class=\"dataframe\">\n",
       "  <thead>\n",
       "    <tr style=\"text-align: right;\">\n",
       "      <th></th>\n",
       "      <th>children</th>\n",
       "      <th>days_employed</th>\n",
       "      <th>dob_years</th>\n",
       "      <th>education</th>\n",
       "      <th>education_id</th>\n",
       "      <th>family_status</th>\n",
       "      <th>family_status_id</th>\n",
       "      <th>gender</th>\n",
       "      <th>income_type</th>\n",
       "      <th>debt</th>\n",
       "      <th>total_income</th>\n",
       "      <th>purpose</th>\n",
       "    </tr>\n",
       "  </thead>\n",
       "  <tbody>\n",
       "    <tr>\n",
       "      <th>0</th>\n",
       "      <td>1</td>\n",
       "      <td>8438.0</td>\n",
       "      <td>42</td>\n",
       "      <td>bachelor's degree</td>\n",
       "      <td>0</td>\n",
       "      <td>married</td>\n",
       "      <td>0</td>\n",
       "      <td>F</td>\n",
       "      <td>employee</td>\n",
       "      <td>0</td>\n",
       "      <td>40620.102</td>\n",
       "      <td>house</td>\n",
       "    </tr>\n",
       "    <tr>\n",
       "      <th>1</th>\n",
       "      <td>1</td>\n",
       "      <td>4025.0</td>\n",
       "      <td>36</td>\n",
       "      <td>secondary education</td>\n",
       "      <td>1</td>\n",
       "      <td>married</td>\n",
       "      <td>0</td>\n",
       "      <td>F</td>\n",
       "      <td>employee</td>\n",
       "      <td>0</td>\n",
       "      <td>17932.802</td>\n",
       "      <td>cars</td>\n",
       "    </tr>\n",
       "    <tr>\n",
       "      <th>2</th>\n",
       "      <td>0</td>\n",
       "      <td>5624.0</td>\n",
       "      <td>33</td>\n",
       "      <td>secondary education</td>\n",
       "      <td>1</td>\n",
       "      <td>married</td>\n",
       "      <td>0</td>\n",
       "      <td>M</td>\n",
       "      <td>employee</td>\n",
       "      <td>0</td>\n",
       "      <td>23341.752</td>\n",
       "      <td>house</td>\n",
       "    </tr>\n",
       "    <tr>\n",
       "      <th>3</th>\n",
       "      <td>3</td>\n",
       "      <td>4125.0</td>\n",
       "      <td>32</td>\n",
       "      <td>secondary education</td>\n",
       "      <td>1</td>\n",
       "      <td>married</td>\n",
       "      <td>0</td>\n",
       "      <td>M</td>\n",
       "      <td>employee</td>\n",
       "      <td>0</td>\n",
       "      <td>42820.568</td>\n",
       "      <td>education</td>\n",
       "    </tr>\n",
       "    <tr>\n",
       "      <th>4</th>\n",
       "      <td>0</td>\n",
       "      <td>340267.0</td>\n",
       "      <td>53</td>\n",
       "      <td>secondary education</td>\n",
       "      <td>1</td>\n",
       "      <td>civil partnership</td>\n",
       "      <td>1</td>\n",
       "      <td>F</td>\n",
       "      <td>retiree</td>\n",
       "      <td>0</td>\n",
       "      <td>25378.572</td>\n",
       "      <td>wedding</td>\n",
       "    </tr>\n",
       "  </tbody>\n",
       "</table>\n",
       "</div>"
      ],
      "text/plain": [
       "   children  days_employed  dob_years            education  education_id  \\\n",
       "0         1         8438.0         42    bachelor's degree             0   \n",
       "1         1         4025.0         36  secondary education             1   \n",
       "2         0         5624.0         33  secondary education             1   \n",
       "3         3         4125.0         32  secondary education             1   \n",
       "4         0       340267.0         53  secondary education             1   \n",
       "\n",
       "       family_status  family_status_id gender income_type  debt  total_income  \\\n",
       "0            married                 0      F    employee     0     40620.102   \n",
       "1            married                 0      F    employee     0     17932.802   \n",
       "2            married                 0      M    employee     0     23341.752   \n",
       "3            married                 0      M    employee     0     42820.568   \n",
       "4  civil partnership                 1      F     retiree     0     25378.572   \n",
       "\n",
       "     purpose  \n",
       "0      house  \n",
       "1       cars  \n",
       "2      house  \n",
       "3  education  \n",
       "4    wedding  "
      ]
     },
     "execution_count": 25,
     "metadata": {},
     "output_type": "execute_result"
    }
   ],
   "source": [
    "#rounding up the days_employed\n",
    "credit_scoring['days_employed'] = np.ceil(credit_scoring['days_employed'])\n",
    "\n",
    "#check the dataset\n",
    "credit_scoring.head()"
   ]
  },
  {
   "cell_type": "markdown",
   "id": "10590df9",
   "metadata": {},
   "source": [
    "### Kolom : `dob_years` <a id='transformation-years'></a>\n",
    "\n",
    "Pada kesimpulan sebelumnya, kolom `dob_years` memiliki nilai aneh dimana seorang nasabah mempunyai usia 0. Secara logika, apabila seseorang baru berusia 0 tahun tidak dapat mengajukan pinjaman ke bank. "
   ]
  },
  {
   "cell_type": "code",
   "execution_count": 26,
   "id": "674e8e43",
   "metadata": {},
   "outputs": [
    {
     "data": {
      "text/plain": [
       "0.47"
      ]
     },
     "execution_count": 26,
     "metadata": {},
     "output_type": "execute_result"
    }
   ],
   "source": [
    "#check persentage of odd value\n",
    "years_odd = len(credit_scoring.loc[credit_scoring['dob_years'] == 0])\n",
    "percentage_years_null = years_odd / len(credit_scoring) * 100\n",
    "\n",
    "round(percentage_years_null, 2)"
   ]
  },
  {
   "cell_type": "markdown",
   "id": "bce850ea",
   "metadata": {},
   "source": [
    "Data yang bermasalah pada kolom `dob_years` sebanyak 0,47% dari keseluruhan data. Untuk menentukan pengisian data pada kolom `dob_years`, maka bisa dilihat distribusi datanya menggunakan boxplot untuk melihat adanya outlier atau tidak."
   ]
  },
  {
   "cell_type": "code",
   "execution_count": 27,
   "id": "56f86c8c",
   "metadata": {
    "scrolled": false
   },
   "outputs": [
    {
     "data": {
      "text/html": [
       "<div>\n",
       "<style scoped>\n",
       "    .dataframe tbody tr th:only-of-type {\n",
       "        vertical-align: middle;\n",
       "    }\n",
       "\n",
       "    .dataframe tbody tr th {\n",
       "        vertical-align: top;\n",
       "    }\n",
       "\n",
       "    .dataframe thead th {\n",
       "        text-align: right;\n",
       "    }\n",
       "</style>\n",
       "<table border=\"1\" class=\"dataframe\">\n",
       "  <thead>\n",
       "    <tr style=\"text-align: right;\">\n",
       "      <th></th>\n",
       "      <th>children</th>\n",
       "      <th>days_employed</th>\n",
       "      <th>dob_years</th>\n",
       "      <th>education</th>\n",
       "      <th>education_id</th>\n",
       "      <th>family_status</th>\n",
       "      <th>family_status_id</th>\n",
       "      <th>gender</th>\n",
       "      <th>income_type</th>\n",
       "      <th>debt</th>\n",
       "      <th>total_income</th>\n",
       "      <th>purpose</th>\n",
       "    </tr>\n",
       "  </thead>\n",
       "  <tbody>\n",
       "    <tr>\n",
       "      <th>0</th>\n",
       "      <td>1</td>\n",
       "      <td>8438.0</td>\n",
       "      <td>42</td>\n",
       "      <td>bachelor's degree</td>\n",
       "      <td>0</td>\n",
       "      <td>married</td>\n",
       "      <td>0</td>\n",
       "      <td>F</td>\n",
       "      <td>employee</td>\n",
       "      <td>0</td>\n",
       "      <td>40620.102</td>\n",
       "      <td>house</td>\n",
       "    </tr>\n",
       "    <tr>\n",
       "      <th>1</th>\n",
       "      <td>1</td>\n",
       "      <td>4025.0</td>\n",
       "      <td>36</td>\n",
       "      <td>secondary education</td>\n",
       "      <td>1</td>\n",
       "      <td>married</td>\n",
       "      <td>0</td>\n",
       "      <td>F</td>\n",
       "      <td>employee</td>\n",
       "      <td>0</td>\n",
       "      <td>17932.802</td>\n",
       "      <td>cars</td>\n",
       "    </tr>\n",
       "    <tr>\n",
       "      <th>2</th>\n",
       "      <td>0</td>\n",
       "      <td>5624.0</td>\n",
       "      <td>33</td>\n",
       "      <td>secondary education</td>\n",
       "      <td>1</td>\n",
       "      <td>married</td>\n",
       "      <td>0</td>\n",
       "      <td>M</td>\n",
       "      <td>employee</td>\n",
       "      <td>0</td>\n",
       "      <td>23341.752</td>\n",
       "      <td>house</td>\n",
       "    </tr>\n",
       "    <tr>\n",
       "      <th>3</th>\n",
       "      <td>3</td>\n",
       "      <td>4125.0</td>\n",
       "      <td>32</td>\n",
       "      <td>secondary education</td>\n",
       "      <td>1</td>\n",
       "      <td>married</td>\n",
       "      <td>0</td>\n",
       "      <td>M</td>\n",
       "      <td>employee</td>\n",
       "      <td>0</td>\n",
       "      <td>42820.568</td>\n",
       "      <td>education</td>\n",
       "    </tr>\n",
       "    <tr>\n",
       "      <th>4</th>\n",
       "      <td>0</td>\n",
       "      <td>340267.0</td>\n",
       "      <td>53</td>\n",
       "      <td>secondary education</td>\n",
       "      <td>1</td>\n",
       "      <td>civil partnership</td>\n",
       "      <td>1</td>\n",
       "      <td>F</td>\n",
       "      <td>retiree</td>\n",
       "      <td>0</td>\n",
       "      <td>25378.572</td>\n",
       "      <td>wedding</td>\n",
       "    </tr>\n",
       "  </tbody>\n",
       "</table>\n",
       "</div>"
      ],
      "text/plain": [
       "   children  days_employed  dob_years            education  education_id  \\\n",
       "0         1         8438.0         42    bachelor's degree             0   \n",
       "1         1         4025.0         36  secondary education             1   \n",
       "2         0         5624.0         33  secondary education             1   \n",
       "3         3         4125.0         32  secondary education             1   \n",
       "4         0       340267.0         53  secondary education             1   \n",
       "\n",
       "       family_status  family_status_id gender income_type  debt  total_income  \\\n",
       "0            married                 0      F    employee     0     40620.102   \n",
       "1            married                 0      F    employee     0     17932.802   \n",
       "2            married                 0      M    employee     0     23341.752   \n",
       "3            married                 0      M    employee     0     42820.568   \n",
       "4  civil partnership                 1      F     retiree     0     25378.572   \n",
       "\n",
       "     purpose  \n",
       "0      house  \n",
       "1       cars  \n",
       "2      house  \n",
       "3  education  \n",
       "4    wedding  "
      ]
     },
     "execution_count": 27,
     "metadata": {},
     "output_type": "execute_result"
    }
   ],
   "source": [
    "#create a new dataset\n",
    "dob_years_clean = credit_scoring.loc[credit_scoring['dob_years'] != 0]\n",
    "\n",
    "#check the dataset\n",
    "dob_years_clean.head()"
   ]
  },
  {
   "cell_type": "code",
   "execution_count": 28,
   "id": "41053c96",
   "metadata": {
    "scrolled": false
   },
   "outputs": [
    {
     "name": "stderr",
     "output_type": "stream",
     "text": [
      "D:\\003 LES\\ANACONDA\\lib\\site-packages\\seaborn\\_decorators.py:36: FutureWarning: Pass the following variable as a keyword arg: x. From version 0.12, the only valid positional argument will be `data`, and passing other arguments without an explicit keyword will result in an error or misinterpretation.\n",
      "  warnings.warn(\n"
     ]
    },
    {
     "data": {
      "image/png": "[encoded data removed]",
      "text/plain": [
       "<Figure size 1000x500 with 1 Axes>"
      ]
     },
     "metadata": {},
     "output_type": "display_data"
    }
   ],
   "source": [
    "#create a boxplot\n",
    "plt.figure(figsize=(10,5))\n",
    "sns.boxplot(dob_years_clean['dob_years'])\n",
    "plt.show()"
   ]
  },
  {
   "cell_type": "markdown",
   "id": "a0b3f06e",
   "metadata": {},
   "source": [
    "Dari data diatas, dapat dilihat bahwa untuk kolom `dob_years` tidak ada outlier, yaitu data yang terletak diluar garis. Sehingga nilai 0 pada kolom tersebut bisa diisi dengan rata-rata usia seluruh nasabah."
   ]
  },
  {
   "cell_type": "code",
   "execution_count": 29,
   "id": "8d94fa21",
   "metadata": {},
   "outputs": [
    {
     "data": {
      "text/plain": [
       "43.0"
      ]
     },
     "execution_count": 29,
     "metadata": {},
     "output_type": "execute_result"
    }
   ],
   "source": [
    "#check the average of years\n",
    "ave_age_years = round(credit_scoring['dob_years'].mean(), 0)\n",
    "ave_age_years"
   ]
  },
  {
   "cell_type": "code",
   "execution_count": 30,
   "id": "f10d430d",
   "metadata": {
    "scrolled": true
   },
   "outputs": [
    {
     "data": {
      "text/html": [
       "<div>\n",
       "<style scoped>\n",
       "    .dataframe tbody tr th:only-of-type {\n",
       "        vertical-align: middle;\n",
       "    }\n",
       "\n",
       "    .dataframe tbody tr th {\n",
       "        vertical-align: top;\n",
       "    }\n",
       "\n",
       "    .dataframe thead th {\n",
       "        text-align: right;\n",
       "    }\n",
       "</style>\n",
       "<table border=\"1\" class=\"dataframe\">\n",
       "  <thead>\n",
       "    <tr style=\"text-align: right;\">\n",
       "      <th></th>\n",
       "      <th>children</th>\n",
       "      <th>days_employed</th>\n",
       "      <th>dob_years</th>\n",
       "      <th>education</th>\n",
       "      <th>education_id</th>\n",
       "      <th>family_status</th>\n",
       "      <th>family_status_id</th>\n",
       "      <th>gender</th>\n",
       "      <th>income_type</th>\n",
       "      <th>debt</th>\n",
       "      <th>total_income</th>\n",
       "      <th>purpose</th>\n",
       "    </tr>\n",
       "  </thead>\n",
       "  <tbody>\n",
       "  </tbody>\n",
       "</table>\n",
       "</div>"
      ],
      "text/plain": [
       "Empty DataFrame\n",
       "Columns: [children, days_employed, dob_years, education, education_id, family_status, family_status_id, gender, income_type, debt, total_income, purpose]\n",
       "Index: []"
      ]
     },
     "execution_count": 30,
     "metadata": {},
     "output_type": "execute_result"
    }
   ],
   "source": [
    "#change the value\n",
    "credit_scoring['dob_years'] = credit_scoring['dob_years'].replace([0], ave_age_years)\n",
    "\n",
    "#check the dataset\n",
    "credit_scoring.loc[credit_scoring ['dob_years'] == 0]"
   ]
  },
  {
   "cell_type": "markdown",
   "id": "f7799164",
   "metadata": {},
   "source": [
    "### Kolom : `gender` <a id='transformation-gender'></a>\n",
    "\n",
    "Dari hasil eksplorasi data, belum terlihat apakah ada masalah pada kolom gender sehingga perlu dicek kembali."
   ]
  },
  {
   "cell_type": "code",
   "execution_count": 31,
   "id": "76aa3250",
   "metadata": {
    "scrolled": true
   },
   "outputs": [
    {
     "data": {
      "text/plain": [
       "F      14236\n",
       "M       7288\n",
       "XNA        1\n",
       "Name: gender, dtype: int64"
      ]
     },
     "execution_count": 31,
     "metadata": {},
     "output_type": "execute_result"
    }
   ],
   "source": [
    "#check the odd value\n",
    "credit_scoring['gender'].value_counts()"
   ]
  },
  {
   "cell_type": "markdown",
   "id": "3df4bdfb",
   "metadata": {},
   "source": [
    "Dari data diatas, terlihat bahwa ada 1 data yang tidak tepat untuk mendeskripsikan jenis kelamin nasabah. Hal ini dapat terjadi karena kesalahan dalam penginputan data. Sehingga data yang dihasilkan harus di*cleaning.* \n",
    "\n",
    "Proses trasformasi data bisa dimulai dengan melihat baris yang memiliki nilai `gender` XNA."
   ]
  },
  {
   "cell_type": "code",
   "execution_count": 32,
   "id": "95cb26a8",
   "metadata": {
    "scrolled": true
   },
   "outputs": [
    {
     "data": {
      "text/html": [
       "<div>\n",
       "<style scoped>\n",
       "    .dataframe tbody tr th:only-of-type {\n",
       "        vertical-align: middle;\n",
       "    }\n",
       "\n",
       "    .dataframe tbody tr th {\n",
       "        vertical-align: top;\n",
       "    }\n",
       "\n",
       "    .dataframe thead th {\n",
       "        text-align: right;\n",
       "    }\n",
       "</style>\n",
       "<table border=\"1\" class=\"dataframe\">\n",
       "  <thead>\n",
       "    <tr style=\"text-align: right;\">\n",
       "      <th></th>\n",
       "      <th>children</th>\n",
       "      <th>days_employed</th>\n",
       "      <th>dob_years</th>\n",
       "      <th>education</th>\n",
       "      <th>education_id</th>\n",
       "      <th>family_status</th>\n",
       "      <th>family_status_id</th>\n",
       "      <th>gender</th>\n",
       "      <th>income_type</th>\n",
       "      <th>debt</th>\n",
       "      <th>total_income</th>\n",
       "      <th>purpose</th>\n",
       "    </tr>\n",
       "  </thead>\n",
       "  <tbody>\n",
       "    <tr>\n",
       "      <th>10701</th>\n",
       "      <td>0</td>\n",
       "      <td>2359.0</td>\n",
       "      <td>24</td>\n",
       "      <td>some college</td>\n",
       "      <td>2</td>\n",
       "      <td>civil partnership</td>\n",
       "      <td>1</td>\n",
       "      <td>XNA</td>\n",
       "      <td>business</td>\n",
       "      <td>0</td>\n",
       "      <td>32624.825</td>\n",
       "      <td>house</td>\n",
       "    </tr>\n",
       "  </tbody>\n",
       "</table>\n",
       "</div>"
      ],
      "text/plain": [
       "       children  days_employed  dob_years     education  education_id  \\\n",
       "10701         0         2359.0         24  some college             2   \n",
       "\n",
       "           family_status  family_status_id gender income_type  debt  \\\n",
       "10701  civil partnership                 1    XNA    business     0   \n",
       "\n",
       "       total_income purpose  \n",
       "10701     32624.825   house  "
      ]
     },
     "execution_count": 32,
     "metadata": {},
     "output_type": "execute_result"
    }
   ],
   "source": [
    "#check the odd value XNA\n",
    "credit_scoring.loc[credit_scoring['gender'] == 'XNA']"
   ]
  },
  {
   "cell_type": "markdown",
   "id": "498bdf5b",
   "metadata": {},
   "source": [
    "Nilai 'XNA' bisa diganti dengan nilai yang paling sering muncul dan dapat diketahui dengan metode `mode()`. Hal ini disebabkan oleh tidak ada parameter apapun untuk menentukan bahwa nasabah pada entri tersebut laki-laki dan perempuan."
   ]
  },
  {
   "cell_type": "code",
   "execution_count": 33,
   "id": "077d271e",
   "metadata": {
    "scrolled": true
   },
   "outputs": [
    {
     "data": {
      "text/plain": [
       "0    F\n",
       "Name: gender, dtype: object"
      ]
     },
     "execution_count": 33,
     "metadata": {},
     "output_type": "execute_result"
    }
   ],
   "source": [
    "#check the gender that has the most value\n",
    "credit_scoring['gender'].mode()"
   ]
  },
  {
   "cell_type": "code",
   "execution_count": 34,
   "id": "337f536e",
   "metadata": {
    "scrolled": true
   },
   "outputs": [
    {
     "data": {
      "text/plain": [
       "F    14237\n",
       "M     7288\n",
       "Name: gender, dtype: int64"
      ]
     },
     "execution_count": 34,
     "metadata": {},
     "output_type": "execute_result"
    }
   ],
   "source": [
    "#replace the XNA\n",
    "credit_scoring['gender'] = credit_scoring['gender'].replace(['XNA'], 'F')\n",
    "\n",
    "#check the dataset\n",
    "credit_scoring['gender'].value_counts()"
   ]
  },
  {
   "cell_type": "markdown",
   "id": "5faf0120",
   "metadata": {},
   "source": [
    "### Kolom : `total_income` <a id='transformation-income'></a>\n",
    "\n",
    "Dari hasil eksplorasi data, belum terlihat apakah ada masalah pada kolom `total_income` sehingga perlu dicek kembali."
   ]
  },
  {
   "cell_type": "code",
   "execution_count": 35,
   "id": "db71493e",
   "metadata": {
    "scrolled": true
   },
   "outputs": [
    {
     "data": {
      "text/plain": [
       "employee                       11119\n",
       "business                        5085\n",
       "retiree                         3856\n",
       "civil servant                   1459\n",
       "unemployed                         2\n",
       "entrepreneur                       2\n",
       "student                            1\n",
       "paternity / maternity leave        1\n",
       "Name: income_type, dtype: int64"
      ]
     },
     "execution_count": 35,
     "metadata": {},
     "output_type": "execute_result"
    }
   ],
   "source": [
    "#check the odd value\n",
    "credit_scoring['income_type'].value_counts()"
   ]
  },
  {
   "cell_type": "markdown",
   "id": "4c1217fa",
   "metadata": {},
   "source": [
    "Kolom `income_type` berhubungan dengan `total_income` dan `days_employed`. Sehingga lebih baik untuk melihat data dari keseluruhan kolom tersebut untuk mengetahui adanya nilai yang aneh atau tidak.\n",
    "\n",
    "Value yang kecil kemungkinannya untuk mempunyai `total_income` dan `days_employed` adalah value unemployed dan student. Sehingga dari dua value tersebut dapat dilihat apakah ada nilai yang aneh."
   ]
  },
  {
   "cell_type": "code",
   "execution_count": 36,
   "id": "19957bc5",
   "metadata": {
    "scrolled": true
   },
   "outputs": [
    {
     "data": {
      "text/html": [
       "<div>\n",
       "<style scoped>\n",
       "    .dataframe tbody tr th:only-of-type {\n",
       "        vertical-align: middle;\n",
       "    }\n",
       "\n",
       "    .dataframe tbody tr th {\n",
       "        vertical-align: top;\n",
       "    }\n",
       "\n",
       "    .dataframe thead th {\n",
       "        text-align: right;\n",
       "    }\n",
       "</style>\n",
       "<table border=\"1\" class=\"dataframe\">\n",
       "  <thead>\n",
       "    <tr style=\"text-align: right;\">\n",
       "      <th></th>\n",
       "      <th>children</th>\n",
       "      <th>days_employed</th>\n",
       "      <th>dob_years</th>\n",
       "      <th>education</th>\n",
       "      <th>education_id</th>\n",
       "      <th>family_status</th>\n",
       "      <th>family_status_id</th>\n",
       "      <th>gender</th>\n",
       "      <th>income_type</th>\n",
       "      <th>debt</th>\n",
       "      <th>total_income</th>\n",
       "      <th>purpose</th>\n",
       "    </tr>\n",
       "  </thead>\n",
       "  <tbody>\n",
       "    <tr>\n",
       "      <th>3133</th>\n",
       "      <td>1</td>\n",
       "      <td>337525.0</td>\n",
       "      <td>31</td>\n",
       "      <td>secondary education</td>\n",
       "      <td>1</td>\n",
       "      <td>married</td>\n",
       "      <td>0</td>\n",
       "      <td>M</td>\n",
       "      <td>unemployed</td>\n",
       "      <td>1</td>\n",
       "      <td>9593.119</td>\n",
       "      <td>house</td>\n",
       "    </tr>\n",
       "    <tr>\n",
       "      <th>14798</th>\n",
       "      <td>0</td>\n",
       "      <td>395303.0</td>\n",
       "      <td>45</td>\n",
       "      <td>bachelor's degree</td>\n",
       "      <td>0</td>\n",
       "      <td>civil partnership</td>\n",
       "      <td>1</td>\n",
       "      <td>F</td>\n",
       "      <td>unemployed</td>\n",
       "      <td>0</td>\n",
       "      <td>32435.602</td>\n",
       "      <td>house</td>\n",
       "    </tr>\n",
       "  </tbody>\n",
       "</table>\n",
       "</div>"
      ],
      "text/plain": [
       "       children  days_employed  dob_years            education  education_id  \\\n",
       "3133          1       337525.0         31  secondary education             1   \n",
       "14798         0       395303.0         45    bachelor's degree             0   \n",
       "\n",
       "           family_status  family_status_id gender income_type  debt  \\\n",
       "3133             married                 0      M  unemployed     1   \n",
       "14798  civil partnership                 1      F  unemployed     0   \n",
       "\n",
       "       total_income purpose  \n",
       "3133       9593.119   house  \n",
       "14798     32435.602   house  "
      ]
     },
     "execution_count": 36,
     "metadata": {},
     "output_type": "execute_result"
    }
   ],
   "source": [
    "#check the odd value\n",
    "credit_scoring.loc[credit_scoring['income_type'] == 'unemployed']"
   ]
  },
  {
   "cell_type": "markdown",
   "id": "259796ab",
   "metadata": {},
   "source": [
    "Nasabah dengan `income_type` unemployed atau tidak bekerja keduanya memiliki nilai lama waktu bekerja dan total pendapatan. Hal ini kecil kemungkinan terjadi karena secara logika apabila tidak bekerja maka tidak mempunyai lama waktu bekerja dan pendapatan. Sehingga data yang didapatkan tidak akurat.\n",
    "\n",
    "Hal tersebut bisa terjadi salah satunya mungkin nasabah memiliki kebingunan apakah waktu lama bekerja dan total pendapatan yang diisi adalah waktu bekerja terakhir dan total pendapatan terakhir yang dimilikinya. Atau adanya kemungkinan bahwa nasabah mengisi data tersebut agar di*ACC* creditnya (melakukan kebohongan). Sehingga, untuk data tersebut lebih baik dihilangkan."
   ]
  },
  {
   "cell_type": "code",
   "execution_count": 37,
   "id": "d6755a2b",
   "metadata": {
    "scrolled": true
   },
   "outputs": [
    {
     "data": {
      "text/html": [
       "<div>\n",
       "<style scoped>\n",
       "    .dataframe tbody tr th:only-of-type {\n",
       "        vertical-align: middle;\n",
       "    }\n",
       "\n",
       "    .dataframe tbody tr th {\n",
       "        vertical-align: top;\n",
       "    }\n",
       "\n",
       "    .dataframe thead th {\n",
       "        text-align: right;\n",
       "    }\n",
       "</style>\n",
       "<table border=\"1\" class=\"dataframe\">\n",
       "  <thead>\n",
       "    <tr style=\"text-align: right;\">\n",
       "      <th></th>\n",
       "      <th>children</th>\n",
       "      <th>days_employed</th>\n",
       "      <th>dob_years</th>\n",
       "      <th>education</th>\n",
       "      <th>education_id</th>\n",
       "      <th>family_status</th>\n",
       "      <th>family_status_id</th>\n",
       "      <th>gender</th>\n",
       "      <th>income_type</th>\n",
       "      <th>debt</th>\n",
       "      <th>total_income</th>\n",
       "      <th>purpose</th>\n",
       "    </tr>\n",
       "  </thead>\n",
       "  <tbody>\n",
       "  </tbody>\n",
       "</table>\n",
       "</div>"
      ],
      "text/plain": [
       "Empty DataFrame\n",
       "Columns: [children, days_employed, dob_years, education, education_id, family_status, family_status_id, gender, income_type, debt, total_income, purpose]\n",
       "Index: []"
      ]
     },
     "execution_count": 37,
     "metadata": {},
     "output_type": "execute_result"
    }
   ],
   "source": [
    "#drop the odd value\n",
    "credit_scoring.drop(credit_scoring[credit_scoring['income_type'] == 'unemployed'].index, inplace=True)\n",
    "\n",
    "#check the dataset\n",
    "credit_scoring.loc[credit_scoring['income_type'] == 'unemployed']"
   ]
  },
  {
   "cell_type": "markdown",
   "id": "43520581",
   "metadata": {},
   "source": [
    "Selain value unemployed, untuk value student pada kolom `income_type` juga kecil kemungkinannya untuk memiliki pemasukan dan lama waktu bekerja. "
   ]
  },
  {
   "cell_type": "code",
   "execution_count": 38,
   "id": "b136b8e2",
   "metadata": {},
   "outputs": [
    {
     "data": {
      "text/html": [
       "<div>\n",
       "<style scoped>\n",
       "    .dataframe tbody tr th:only-of-type {\n",
       "        vertical-align: middle;\n",
       "    }\n",
       "\n",
       "    .dataframe tbody tr th {\n",
       "        vertical-align: top;\n",
       "    }\n",
       "\n",
       "    .dataframe thead th {\n",
       "        text-align: right;\n",
       "    }\n",
       "</style>\n",
       "<table border=\"1\" class=\"dataframe\">\n",
       "  <thead>\n",
       "    <tr style=\"text-align: right;\">\n",
       "      <th></th>\n",
       "      <th>children</th>\n",
       "      <th>days_employed</th>\n",
       "      <th>dob_years</th>\n",
       "      <th>education</th>\n",
       "      <th>education_id</th>\n",
       "      <th>family_status</th>\n",
       "      <th>family_status_id</th>\n",
       "      <th>gender</th>\n",
       "      <th>income_type</th>\n",
       "      <th>debt</th>\n",
       "      <th>total_income</th>\n",
       "      <th>purpose</th>\n",
       "    </tr>\n",
       "  </thead>\n",
       "  <tbody>\n",
       "    <tr>\n",
       "      <th>9410</th>\n",
       "      <td>0</td>\n",
       "      <td>579.0</td>\n",
       "      <td>22</td>\n",
       "      <td>bachelor's degree</td>\n",
       "      <td>0</td>\n",
       "      <td>unmarried</td>\n",
       "      <td>4</td>\n",
       "      <td>M</td>\n",
       "      <td>student</td>\n",
       "      <td>0</td>\n",
       "      <td>15712.26</td>\n",
       "      <td>house</td>\n",
       "    </tr>\n",
       "  </tbody>\n",
       "</table>\n",
       "</div>"
      ],
      "text/plain": [
       "      children  days_employed  dob_years          education  education_id  \\\n",
       "9410         0          579.0         22  bachelor's degree             0   \n",
       "\n",
       "     family_status  family_status_id gender income_type  debt  total_income  \\\n",
       "9410     unmarried                 4      M     student     0      15712.26   \n",
       "\n",
       "     purpose  \n",
       "9410   house  "
      ]
     },
     "execution_count": 38,
     "metadata": {},
     "output_type": "execute_result"
    }
   ],
   "source": [
    "#check the dataset\n",
    "credit_scoring.loc[credit_scoring['income_type'] == 'student']"
   ]
  },
  {
   "cell_type": "code",
   "execution_count": 39,
   "id": "cd6cd2f8",
   "metadata": {},
   "outputs": [
    {
     "data": {
      "text/html": [
       "<div>\n",
       "<style scoped>\n",
       "    .dataframe tbody tr th:only-of-type {\n",
       "        vertical-align: middle;\n",
       "    }\n",
       "\n",
       "    .dataframe tbody tr th {\n",
       "        vertical-align: top;\n",
       "    }\n",
       "\n",
       "    .dataframe thead th {\n",
       "        text-align: right;\n",
       "    }\n",
       "</style>\n",
       "<table border=\"1\" class=\"dataframe\">\n",
       "  <thead>\n",
       "    <tr style=\"text-align: right;\">\n",
       "      <th></th>\n",
       "      <th>children</th>\n",
       "      <th>days_employed</th>\n",
       "      <th>dob_years</th>\n",
       "      <th>education</th>\n",
       "      <th>education_id</th>\n",
       "      <th>family_status</th>\n",
       "      <th>family_status_id</th>\n",
       "      <th>gender</th>\n",
       "      <th>income_type</th>\n",
       "      <th>debt</th>\n",
       "      <th>total_income</th>\n",
       "      <th>purpose</th>\n",
       "    </tr>\n",
       "  </thead>\n",
       "  <tbody>\n",
       "  </tbody>\n",
       "</table>\n",
       "</div>"
      ],
      "text/plain": [
       "Empty DataFrame\n",
       "Columns: [children, days_employed, dob_years, education, education_id, family_status, family_status_id, gender, income_type, debt, total_income, purpose]\n",
       "Index: []"
      ]
     },
     "execution_count": 39,
     "metadata": {},
     "output_type": "execute_result"
    }
   ],
   "source": [
    "#drop the odd value\n",
    "credit_scoring.drop(credit_scoring[credit_scoring['income_type'] == 'student'].index, inplace=True)\n",
    "\n",
    "#check the dataset\n",
    "credit_scoring.loc[credit_scoring['income_type'] == 'student']"
   ]
  },
  {
   "cell_type": "markdown",
   "id": "5c59b38b",
   "metadata": {},
   "source": [
    "## Mengisi Nilai yang Hilang <a id='fill-null'></a>\n",
    "\n",
    "Jumlah nilai yang hilang pada kolom `days_employed` dan `total_income` adalah sama, sehingga perlu dicek apakah nilai yang hilang simetris atau tidak."
   ]
  },
  {
   "cell_type": "code",
   "execution_count": 40,
   "id": "dceff7fb",
   "metadata": {},
   "outputs": [
    {
     "data": {
      "text/plain": [
       "children               0\n",
       "days_employed       2174\n",
       "dob_years              0\n",
       "education              0\n",
       "education_id           0\n",
       "family_status          0\n",
       "family_status_id       0\n",
       "gender                 0\n",
       "income_type            0\n",
       "debt                   0\n",
       "total_income        2174\n",
       "purpose                0\n",
       "dtype: int64"
      ]
     },
     "execution_count": 40,
     "metadata": {},
     "output_type": "execute_result"
    }
   ],
   "source": [
    "#check the dataset that has null value\n",
    "missing_total = credit_scoring.loc[credit_scoring['total_income'].isna()]\n",
    "\n",
    "#check the missing value\n",
    "missing_total.isna().sum()"
   ]
  },
  {
   "cell_type": "code",
   "execution_count": 41,
   "id": "d6ed4e1f",
   "metadata": {},
   "outputs": [
    {
     "data": {
      "text/plain": [
       "children               0\n",
       "days_employed       2174\n",
       "dob_years              0\n",
       "education              0\n",
       "education_id           0\n",
       "family_status          0\n",
       "family_status_id       0\n",
       "gender                 0\n",
       "income_type            0\n",
       "debt                   0\n",
       "total_income        2174\n",
       "purpose                0\n",
       "dtype: int64"
      ]
     },
     "execution_count": 41,
     "metadata": {},
     "output_type": "execute_result"
    }
   ],
   "source": [
    "#check the dataset that has null value on days_employed\n",
    "credit_scoring.isna().sum()"
   ]
  },
  {
   "cell_type": "markdown",
   "id": "741e73a5",
   "metadata": {},
   "source": [
    "Dari data diatas, dapat disimpulkan bahwa nilai NaN yang berada di kolom `days_employed` dengan `total_income` tampak simetris. Hal ini dibuktikan bahwa jumlah nilai data yang hilang sama baik setelah difilter maupun sebelum difilter. Sehingga data yang hilang berada di baris yang sama."
   ]
  },
  {
   "cell_type": "markdown",
   "id": "477720d4",
   "metadata": {},
   "source": [
    "### Kolom : `total_income` <a id='fill-income'></a>\n",
    "\n",
    "Entri dari kolom `total_income` bisa dipengaruhi oleh 2 hal, yaitu usia dan jenis pemasukan (`income_type`)."
   ]
  },
  {
   "cell_type": "code",
   "execution_count": 42,
   "id": "344f5d76",
   "metadata": {},
   "outputs": [],
   "source": [
    "#categorize the years\n",
    "## create a function\n",
    "def age_group(age):\n",
    "  if age <= 18:\n",
    "    a = 'underage'\n",
    "  elif 18 < age <= 64:\n",
    "    a = 'adult'\n",
    "  elif age >= 65:\n",
    "    a = 'elderly'\n",
    "  return a"
   ]
  },
  {
   "cell_type": "code",
   "execution_count": 43,
   "id": "b611cde5",
   "metadata": {},
   "outputs": [
    {
     "data": {
      "text/plain": [
       "'elderly'"
      ]
     },
     "execution_count": 43,
     "metadata": {},
     "output_type": "execute_result"
    }
   ],
   "source": [
    "#check the function\n",
    "age_group(89)"
   ]
  },
  {
   "cell_type": "code",
   "execution_count": 44,
   "id": "8af79f64",
   "metadata": {},
   "outputs": [
    {
     "data": {
      "text/html": [
       "<div>\n",
       "<style scoped>\n",
       "    .dataframe tbody tr th:only-of-type {\n",
       "        vertical-align: middle;\n",
       "    }\n",
       "\n",
       "    .dataframe tbody tr th {\n",
       "        vertical-align: top;\n",
       "    }\n",
       "\n",
       "    .dataframe thead th {\n",
       "        text-align: right;\n",
       "    }\n",
       "</style>\n",
       "<table border=\"1\" class=\"dataframe\">\n",
       "  <thead>\n",
       "    <tr style=\"text-align: right;\">\n",
       "      <th></th>\n",
       "      <th>children</th>\n",
       "      <th>days_employed</th>\n",
       "      <th>dob_years</th>\n",
       "      <th>education</th>\n",
       "      <th>education_id</th>\n",
       "      <th>family_status</th>\n",
       "      <th>family_status_id</th>\n",
       "      <th>gender</th>\n",
       "      <th>income_type</th>\n",
       "      <th>debt</th>\n",
       "      <th>total_income</th>\n",
       "      <th>purpose</th>\n",
       "      <th>age_group</th>\n",
       "    </tr>\n",
       "  </thead>\n",
       "  <tbody>\n",
       "    <tr>\n",
       "      <th>0</th>\n",
       "      <td>1</td>\n",
       "      <td>8438.0</td>\n",
       "      <td>42</td>\n",
       "      <td>bachelor's degree</td>\n",
       "      <td>0</td>\n",
       "      <td>married</td>\n",
       "      <td>0</td>\n",
       "      <td>F</td>\n",
       "      <td>employee</td>\n",
       "      <td>0</td>\n",
       "      <td>40620.102</td>\n",
       "      <td>house</td>\n",
       "      <td>adult</td>\n",
       "    </tr>\n",
       "    <tr>\n",
       "      <th>1</th>\n",
       "      <td>1</td>\n",
       "      <td>4025.0</td>\n",
       "      <td>36</td>\n",
       "      <td>secondary education</td>\n",
       "      <td>1</td>\n",
       "      <td>married</td>\n",
       "      <td>0</td>\n",
       "      <td>F</td>\n",
       "      <td>employee</td>\n",
       "      <td>0</td>\n",
       "      <td>17932.802</td>\n",
       "      <td>cars</td>\n",
       "      <td>adult</td>\n",
       "    </tr>\n",
       "    <tr>\n",
       "      <th>2</th>\n",
       "      <td>0</td>\n",
       "      <td>5624.0</td>\n",
       "      <td>33</td>\n",
       "      <td>secondary education</td>\n",
       "      <td>1</td>\n",
       "      <td>married</td>\n",
       "      <td>0</td>\n",
       "      <td>M</td>\n",
       "      <td>employee</td>\n",
       "      <td>0</td>\n",
       "      <td>23341.752</td>\n",
       "      <td>house</td>\n",
       "      <td>adult</td>\n",
       "    </tr>\n",
       "    <tr>\n",
       "      <th>3</th>\n",
       "      <td>3</td>\n",
       "      <td>4125.0</td>\n",
       "      <td>32</td>\n",
       "      <td>secondary education</td>\n",
       "      <td>1</td>\n",
       "      <td>married</td>\n",
       "      <td>0</td>\n",
       "      <td>M</td>\n",
       "      <td>employee</td>\n",
       "      <td>0</td>\n",
       "      <td>42820.568</td>\n",
       "      <td>education</td>\n",
       "      <td>adult</td>\n",
       "    </tr>\n",
       "    <tr>\n",
       "      <th>4</th>\n",
       "      <td>0</td>\n",
       "      <td>340267.0</td>\n",
       "      <td>53</td>\n",
       "      <td>secondary education</td>\n",
       "      <td>1</td>\n",
       "      <td>civil partnership</td>\n",
       "      <td>1</td>\n",
       "      <td>F</td>\n",
       "      <td>retiree</td>\n",
       "      <td>0</td>\n",
       "      <td>25378.572</td>\n",
       "      <td>wedding</td>\n",
       "      <td>adult</td>\n",
       "    </tr>\n",
       "  </tbody>\n",
       "</table>\n",
       "</div>"
      ],
      "text/plain": [
       "   children  days_employed  dob_years            education  education_id  \\\n",
       "0         1         8438.0         42    bachelor's degree             0   \n",
       "1         1         4025.0         36  secondary education             1   \n",
       "2         0         5624.0         33  secondary education             1   \n",
       "3         3         4125.0         32  secondary education             1   \n",
       "4         0       340267.0         53  secondary education             1   \n",
       "\n",
       "       family_status  family_status_id gender income_type  debt  total_income  \\\n",
       "0            married                 0      F    employee     0     40620.102   \n",
       "1            married                 0      F    employee     0     17932.802   \n",
       "2            married                 0      M    employee     0     23341.752   \n",
       "3            married                 0      M    employee     0     42820.568   \n",
       "4  civil partnership                 1      F     retiree     0     25378.572   \n",
       "\n",
       "     purpose age_group  \n",
       "0      house     adult  \n",
       "1       cars     adult  \n",
       "2      house     adult  \n",
       "3  education     adult  \n",
       "4    wedding     adult  "
      ]
     },
     "execution_count": 44,
     "metadata": {},
     "output_type": "execute_result"
    }
   ],
   "source": [
    "#apply the function\n",
    "credit_scoring['age_group'] = credit_scoring['dob_years'].apply(age_group)\n",
    "\n",
    "#check the dataset\n",
    "credit_scoring.head()"
   ]
  },
  {
   "cell_type": "markdown",
   "id": "908df158",
   "metadata": {},
   "source": [
    "Beberapa faktor yang mempengaruhi pendapatan adalah lamanya waktu bekerja dan usia.  Pengisian nilai NaN pada kolom `total_income` harus menggunakan dataset yang bersih."
   ]
  },
  {
   "cell_type": "code",
   "execution_count": 45,
   "id": "8de29aaa",
   "metadata": {},
   "outputs": [
    {
     "data": {
      "text/html": [
       "<div>\n",
       "<style scoped>\n",
       "    .dataframe tbody tr th:only-of-type {\n",
       "        vertical-align: middle;\n",
       "    }\n",
       "\n",
       "    .dataframe tbody tr th {\n",
       "        vertical-align: top;\n",
       "    }\n",
       "\n",
       "    .dataframe thead th {\n",
       "        text-align: right;\n",
       "    }\n",
       "</style>\n",
       "<table border=\"1\" class=\"dataframe\">\n",
       "  <thead>\n",
       "    <tr style=\"text-align: right;\">\n",
       "      <th></th>\n",
       "      <th>children</th>\n",
       "      <th>days_employed</th>\n",
       "      <th>dob_years</th>\n",
       "      <th>education</th>\n",
       "      <th>education_id</th>\n",
       "      <th>family_status</th>\n",
       "      <th>family_status_id</th>\n",
       "      <th>gender</th>\n",
       "      <th>income_type</th>\n",
       "      <th>debt</th>\n",
       "      <th>total_income</th>\n",
       "      <th>purpose</th>\n",
       "      <th>age_group</th>\n",
       "    </tr>\n",
       "  </thead>\n",
       "  <tbody>\n",
       "    <tr>\n",
       "      <th>0</th>\n",
       "      <td>1</td>\n",
       "      <td>8438.0</td>\n",
       "      <td>42</td>\n",
       "      <td>bachelor's degree</td>\n",
       "      <td>0</td>\n",
       "      <td>married</td>\n",
       "      <td>0</td>\n",
       "      <td>F</td>\n",
       "      <td>employee</td>\n",
       "      <td>0</td>\n",
       "      <td>40620.102</td>\n",
       "      <td>house</td>\n",
       "      <td>adult</td>\n",
       "    </tr>\n",
       "    <tr>\n",
       "      <th>1</th>\n",
       "      <td>1</td>\n",
       "      <td>4025.0</td>\n",
       "      <td>36</td>\n",
       "      <td>secondary education</td>\n",
       "      <td>1</td>\n",
       "      <td>married</td>\n",
       "      <td>0</td>\n",
       "      <td>F</td>\n",
       "      <td>employee</td>\n",
       "      <td>0</td>\n",
       "      <td>17932.802</td>\n",
       "      <td>cars</td>\n",
       "      <td>adult</td>\n",
       "    </tr>\n",
       "    <tr>\n",
       "      <th>2</th>\n",
       "      <td>0</td>\n",
       "      <td>5624.0</td>\n",
       "      <td>33</td>\n",
       "      <td>secondary education</td>\n",
       "      <td>1</td>\n",
       "      <td>married</td>\n",
       "      <td>0</td>\n",
       "      <td>M</td>\n",
       "      <td>employee</td>\n",
       "      <td>0</td>\n",
       "      <td>23341.752</td>\n",
       "      <td>house</td>\n",
       "      <td>adult</td>\n",
       "    </tr>\n",
       "    <tr>\n",
       "      <th>3</th>\n",
       "      <td>3</td>\n",
       "      <td>4125.0</td>\n",
       "      <td>32</td>\n",
       "      <td>secondary education</td>\n",
       "      <td>1</td>\n",
       "      <td>married</td>\n",
       "      <td>0</td>\n",
       "      <td>M</td>\n",
       "      <td>employee</td>\n",
       "      <td>0</td>\n",
       "      <td>42820.568</td>\n",
       "      <td>education</td>\n",
       "      <td>adult</td>\n",
       "    </tr>\n",
       "    <tr>\n",
       "      <th>4</th>\n",
       "      <td>0</td>\n",
       "      <td>340267.0</td>\n",
       "      <td>53</td>\n",
       "      <td>secondary education</td>\n",
       "      <td>1</td>\n",
       "      <td>civil partnership</td>\n",
       "      <td>1</td>\n",
       "      <td>F</td>\n",
       "      <td>retiree</td>\n",
       "      <td>0</td>\n",
       "      <td>25378.572</td>\n",
       "      <td>wedding</td>\n",
       "      <td>adult</td>\n",
       "    </tr>\n",
       "  </tbody>\n",
       "</table>\n",
       "</div>"
      ],
      "text/plain": [
       "   children  days_employed  dob_years            education  education_id  \\\n",
       "0         1         8438.0         42    bachelor's degree             0   \n",
       "1         1         4025.0         36  secondary education             1   \n",
       "2         0         5624.0         33  secondary education             1   \n",
       "3         3         4125.0         32  secondary education             1   \n",
       "4         0       340267.0         53  secondary education             1   \n",
       "\n",
       "       family_status  family_status_id gender income_type  debt  total_income  \\\n",
       "0            married                 0      F    employee     0     40620.102   \n",
       "1            married                 0      F    employee     0     17932.802   \n",
       "2            married                 0      M    employee     0     23341.752   \n",
       "3            married                 0      M    employee     0     42820.568   \n",
       "4  civil partnership                 1      F     retiree     0     25378.572   \n",
       "\n",
       "     purpose age_group  \n",
       "0      house     adult  \n",
       "1       cars     adult  \n",
       "2      house     adult  \n",
       "3  education     adult  \n",
       "4    wedding     adult  "
      ]
     },
     "execution_count": 45,
     "metadata": {},
     "output_type": "execute_result"
    }
   ],
   "source": [
    "#create a clean dataset\n",
    "total_income_clean = credit_scoring.loc[~credit_scoring['total_income'].isna()]\n",
    "total_income_clean.head()"
   ]
  },
  {
   "cell_type": "code",
   "execution_count": 46,
   "id": "10e14cb2",
   "metadata": {},
   "outputs": [
    {
     "name": "stderr",
     "output_type": "stream",
     "text": [
      "D:\\003 LES\\ANACONDA\\lib\\site-packages\\seaborn\\_decorators.py:36: FutureWarning: Pass the following variable as a keyword arg: x. From version 0.12, the only valid positional argument will be `data`, and passing other arguments without an explicit keyword will result in an error or misinterpretation.\n",
      "  warnings.warn(\n"
     ]
    },
    {
     "data": {
      "image/png": "[encoded data removed]",
      "text/plain": [
       "<Figure size 1000x500 with 1 Axes>"
      ]
     },
     "metadata": {},
     "output_type": "display_data"
    }
   ],
   "source": [
    "#check the outlier\n",
    "plt.figure(figsize=(10,5))\n",
    "sns.boxplot(total_income_clean['total_income'])\n",
    "plt.show();"
   ]
  },
  {
   "cell_type": "markdown",
   "id": "e8b85123",
   "metadata": {},
   "source": [
    "Dari visualisasi data diatas, dapat dilihat bahwa terdapat banyak outlier dari data `total_income`. Sehingga pengisian data bisa menggunakan nilai median. Nilai outlier bisa dilihat dari titik-titik yang berada diluar garis box."
   ]
  },
  {
   "cell_type": "code",
   "execution_count": 47,
   "id": "d9a3d697",
   "metadata": {},
   "outputs": [
    {
     "data": {
      "text/html": [
       "<div>\n",
       "<style scoped>\n",
       "    .dataframe tbody tr th:only-of-type {\n",
       "        vertical-align: middle;\n",
       "    }\n",
       "\n",
       "    .dataframe tbody tr th {\n",
       "        vertical-align: top;\n",
       "    }\n",
       "\n",
       "    .dataframe thead tr th {\n",
       "        text-align: left;\n",
       "    }\n",
       "\n",
       "    .dataframe thead tr:last-of-type th {\n",
       "        text-align: right;\n",
       "    }\n",
       "</style>\n",
       "<table border=\"1\" class=\"dataframe\">\n",
       "  <thead>\n",
       "    <tr>\n",
       "      <th></th>\n",
       "      <th>median</th>\n",
       "      <th>mean</th>\n",
       "    </tr>\n",
       "    <tr>\n",
       "      <th></th>\n",
       "      <th>total_income</th>\n",
       "      <th>total_income</th>\n",
       "    </tr>\n",
       "    <tr>\n",
       "      <th>income_type</th>\n",
       "      <th></th>\n",
       "      <th></th>\n",
       "    </tr>\n",
       "  </thead>\n",
       "  <tbody>\n",
       "    <tr>\n",
       "      <th>business</th>\n",
       "      <td>27577.27</td>\n",
       "      <td>32386.79</td>\n",
       "    </tr>\n",
       "    <tr>\n",
       "      <th>civil servant</th>\n",
       "      <td>24071.67</td>\n",
       "      <td>27343.73</td>\n",
       "    </tr>\n",
       "    <tr>\n",
       "      <th>employee</th>\n",
       "      <td>22815.10</td>\n",
       "      <td>25820.84</td>\n",
       "    </tr>\n",
       "    <tr>\n",
       "      <th>entrepreneur</th>\n",
       "      <td>79866.10</td>\n",
       "      <td>79866.10</td>\n",
       "    </tr>\n",
       "    <tr>\n",
       "      <th>paternity / maternity leave</th>\n",
       "      <td>8612.66</td>\n",
       "      <td>8612.66</td>\n",
       "    </tr>\n",
       "    <tr>\n",
       "      <th>retiree</th>\n",
       "      <td>18962.32</td>\n",
       "      <td>21940.39</td>\n",
       "    </tr>\n",
       "  </tbody>\n",
       "</table>\n",
       "</div>"
      ],
      "text/plain": [
       "                                  median         mean\n",
       "                            total_income total_income\n",
       "income_type                                          \n",
       "business                        27577.27     32386.79\n",
       "civil servant                   24071.67     27343.73\n",
       "employee                        22815.10     25820.84\n",
       "entrepreneur                    79866.10     79866.10\n",
       "paternity / maternity leave      8612.66      8612.66\n",
       "retiree                         18962.32     21940.39"
      ]
     },
     "execution_count": 47,
     "metadata": {},
     "output_type": "execute_result"
    }
   ],
   "source": [
    "#create a pivot table\n",
    "income_type_pivot = pd.pivot_table(total_income_clean,\n",
    "                       index=['income_type'],\n",
    "                       values=['total_income'],\n",
    "                       aggfunc=['median', 'mean'])\n",
    "round(income_type_pivot, 2)"
   ]
  },
  {
   "cell_type": "code",
   "execution_count": 48,
   "id": "40e97d15",
   "metadata": {},
   "outputs": [
    {
     "data": {
      "text/plain": [
       "0"
      ]
     },
     "execution_count": 48,
     "metadata": {},
     "output_type": "execute_result"
    }
   ],
   "source": [
    "#create a function\n",
    "def fill_missing_value (credit_scoring, income_type, total_income):\n",
    "    grouped_values = credit_scoring.groupby('income_type')['total_income'].median().reset_index()\n",
    "    size = len(grouped_values)\n",
    "    for i in range(size):\n",
    "        group = grouped_values['income_type'][i]\n",
    "        value = grouped_values['total_income'][i]\n",
    "        credit_scoring.loc[(credit_scoring['income_type']==group) & (credit_scoring['total_income'].isna()), 'total_income'] = value\n",
    "    return credit_scoring\n",
    "\n",
    "#apply the function\n",
    "credit_scoring = fill_missing_value(credit_scoring, 'income_type', 'total_income')\n",
    "\n",
    "#check the dataset\n",
    "credit_scoring['total_income'].isna().sum()"
   ]
  },
  {
   "cell_type": "markdown",
   "id": "e8d99138",
   "metadata": {},
   "source": [
    "### Kolom : `days_employed` <a id='fill-days'></a>\n",
    "\n",
    "Memperbaiki nilai nilai yang hilang pada kolom `days_employed` bisa dimulai dari melihat distribusi data dan outliers yang ada. "
   ]
  },
  {
   "cell_type": "code",
   "execution_count": 49,
   "id": "2a5433f8",
   "metadata": {},
   "outputs": [
    {
     "data": {
      "text/html": [
       "<div>\n",
       "<style scoped>\n",
       "    .dataframe tbody tr th:only-of-type {\n",
       "        vertical-align: middle;\n",
       "    }\n",
       "\n",
       "    .dataframe tbody tr th {\n",
       "        vertical-align: top;\n",
       "    }\n",
       "\n",
       "    .dataframe thead th {\n",
       "        text-align: right;\n",
       "    }\n",
       "</style>\n",
       "<table border=\"1\" class=\"dataframe\">\n",
       "  <thead>\n",
       "    <tr style=\"text-align: right;\">\n",
       "      <th></th>\n",
       "      <th>children</th>\n",
       "      <th>days_employed</th>\n",
       "      <th>dob_years</th>\n",
       "      <th>education</th>\n",
       "      <th>education_id</th>\n",
       "      <th>family_status</th>\n",
       "      <th>family_status_id</th>\n",
       "      <th>gender</th>\n",
       "      <th>income_type</th>\n",
       "      <th>debt</th>\n",
       "      <th>total_income</th>\n",
       "      <th>purpose</th>\n",
       "      <th>age_group</th>\n",
       "    </tr>\n",
       "  </thead>\n",
       "  <tbody>\n",
       "    <tr>\n",
       "      <th>0</th>\n",
       "      <td>1</td>\n",
       "      <td>8438.0</td>\n",
       "      <td>42</td>\n",
       "      <td>bachelor's degree</td>\n",
       "      <td>0</td>\n",
       "      <td>married</td>\n",
       "      <td>0</td>\n",
       "      <td>F</td>\n",
       "      <td>employee</td>\n",
       "      <td>0</td>\n",
       "      <td>40620.102</td>\n",
       "      <td>house</td>\n",
       "      <td>adult</td>\n",
       "    </tr>\n",
       "    <tr>\n",
       "      <th>1</th>\n",
       "      <td>1</td>\n",
       "      <td>4025.0</td>\n",
       "      <td>36</td>\n",
       "      <td>secondary education</td>\n",
       "      <td>1</td>\n",
       "      <td>married</td>\n",
       "      <td>0</td>\n",
       "      <td>F</td>\n",
       "      <td>employee</td>\n",
       "      <td>0</td>\n",
       "      <td>17932.802</td>\n",
       "      <td>cars</td>\n",
       "      <td>adult</td>\n",
       "    </tr>\n",
       "    <tr>\n",
       "      <th>2</th>\n",
       "      <td>0</td>\n",
       "      <td>5624.0</td>\n",
       "      <td>33</td>\n",
       "      <td>secondary education</td>\n",
       "      <td>1</td>\n",
       "      <td>married</td>\n",
       "      <td>0</td>\n",
       "      <td>M</td>\n",
       "      <td>employee</td>\n",
       "      <td>0</td>\n",
       "      <td>23341.752</td>\n",
       "      <td>house</td>\n",
       "      <td>adult</td>\n",
       "    </tr>\n",
       "    <tr>\n",
       "      <th>3</th>\n",
       "      <td>3</td>\n",
       "      <td>4125.0</td>\n",
       "      <td>32</td>\n",
       "      <td>secondary education</td>\n",
       "      <td>1</td>\n",
       "      <td>married</td>\n",
       "      <td>0</td>\n",
       "      <td>M</td>\n",
       "      <td>employee</td>\n",
       "      <td>0</td>\n",
       "      <td>42820.568</td>\n",
       "      <td>education</td>\n",
       "      <td>adult</td>\n",
       "    </tr>\n",
       "    <tr>\n",
       "      <th>4</th>\n",
       "      <td>0</td>\n",
       "      <td>340267.0</td>\n",
       "      <td>53</td>\n",
       "      <td>secondary education</td>\n",
       "      <td>1</td>\n",
       "      <td>civil partnership</td>\n",
       "      <td>1</td>\n",
       "      <td>F</td>\n",
       "      <td>retiree</td>\n",
       "      <td>0</td>\n",
       "      <td>25378.572</td>\n",
       "      <td>wedding</td>\n",
       "      <td>adult</td>\n",
       "    </tr>\n",
       "  </tbody>\n",
       "</table>\n",
       "</div>"
      ],
      "text/plain": [
       "   children  days_employed  dob_years            education  education_id  \\\n",
       "0         1         8438.0         42    bachelor's degree             0   \n",
       "1         1         4025.0         36  secondary education             1   \n",
       "2         0         5624.0         33  secondary education             1   \n",
       "3         3         4125.0         32  secondary education             1   \n",
       "4         0       340267.0         53  secondary education             1   \n",
       "\n",
       "       family_status  family_status_id gender income_type  debt  total_income  \\\n",
       "0            married                 0      F    employee     0     40620.102   \n",
       "1            married                 0      F    employee     0     17932.802   \n",
       "2            married                 0      M    employee     0     23341.752   \n",
       "3            married                 0      M    employee     0     42820.568   \n",
       "4  civil partnership                 1      F     retiree     0     25378.572   \n",
       "\n",
       "     purpose age_group  \n",
       "0      house     adult  \n",
       "1       cars     adult  \n",
       "2      house     adult  \n",
       "3  education     adult  \n",
       "4    wedding     adult  "
      ]
     },
     "execution_count": 49,
     "metadata": {},
     "output_type": "execute_result"
    }
   ],
   "source": [
    "#create a clean dataset\n",
    "days_employed_clean = credit_scoring.loc[~credit_scoring['days_employed'].isna()]\n",
    "\n",
    "#check the dataset\n",
    "days_employed_clean.head()"
   ]
  },
  {
   "cell_type": "code",
   "execution_count": 50,
   "id": "95760938",
   "metadata": {},
   "outputs": [
    {
     "name": "stderr",
     "output_type": "stream",
     "text": [
      "D:\\003 LES\\ANACONDA\\lib\\site-packages\\seaborn\\_decorators.py:36: FutureWarning: Pass the following variable as a keyword arg: x. From version 0.12, the only valid positional argument will be `data`, and passing other arguments without an explicit keyword will result in an error or misinterpretation.\n",
      "  warnings.warn(\n"
     ]
    },
    {
     "data": {
      "image/png": "[encoded data removed]",
      "text/plain": [
       "<Figure size 1000x500 with 1 Axes>"
      ]
     },
     "metadata": {},
     "output_type": "display_data"
    }
   ],
   "source": [
    "#create a box plot\n",
    "plt.figure(figsize=(10,5))\n",
    "sns.boxplot(days_employed_clean['days_employed']);"
   ]
  },
  {
   "cell_type": "markdown",
   "id": "d9a8cc5a",
   "metadata": {},
   "source": [
    "Dari data diatas, dapat dilihat bahwa terdapat banyak outliers yang ada di data `days_employed`. Sehingga keputusan yang diambil adalah dengan mengisi data null dengan median. "
   ]
  },
  {
   "cell_type": "code",
   "execution_count": 51,
   "id": "5fff3dbf",
   "metadata": {},
   "outputs": [
    {
     "data": {
      "text/html": [
       "<div>\n",
       "<style scoped>\n",
       "    .dataframe tbody tr th:only-of-type {\n",
       "        vertical-align: middle;\n",
       "    }\n",
       "\n",
       "    .dataframe tbody tr th {\n",
       "        vertical-align: top;\n",
       "    }\n",
       "\n",
       "    .dataframe thead tr th {\n",
       "        text-align: left;\n",
       "    }\n",
       "\n",
       "    .dataframe thead tr:last-of-type th {\n",
       "        text-align: right;\n",
       "    }\n",
       "</style>\n",
       "<table border=\"1\" class=\"dataframe\">\n",
       "  <thead>\n",
       "    <tr>\n",
       "      <th></th>\n",
       "      <th>median</th>\n",
       "      <th>mean</th>\n",
       "    </tr>\n",
       "    <tr>\n",
       "      <th></th>\n",
       "      <th>total_income</th>\n",
       "      <th>total_income</th>\n",
       "    </tr>\n",
       "    <tr>\n",
       "      <th>age_group</th>\n",
       "      <th></th>\n",
       "      <th></th>\n",
       "    </tr>\n",
       "  </thead>\n",
       "  <tbody>\n",
       "    <tr>\n",
       "      <th>adult</th>\n",
       "      <td>23383.13</td>\n",
       "      <td>27020.32</td>\n",
       "    </tr>\n",
       "    <tr>\n",
       "      <th>elderly</th>\n",
       "      <td>18471.39</td>\n",
       "      <td>21542.65</td>\n",
       "    </tr>\n",
       "  </tbody>\n",
       "</table>\n",
       "</div>"
      ],
      "text/plain": [
       "                median         mean\n",
       "          total_income total_income\n",
       "age_group                          \n",
       "adult         23383.13     27020.32\n",
       "elderly       18471.39     21542.65"
      ]
     },
     "execution_count": 51,
     "metadata": {},
     "output_type": "execute_result"
    }
   ],
   "source": [
    "#create a pivot table\n",
    "days_age_group_pivot = pd.pivot_table(days_employed_clean,\n",
    "                       index=['age_group'],\n",
    "                       values=['total_income'],\n",
    "                       aggfunc=['median', 'mean'])\n",
    "round(days_age_group_pivot, 2)"
   ]
  },
  {
   "cell_type": "code",
   "execution_count": 52,
   "id": "7b00a7e8",
   "metadata": {},
   "outputs": [
    {
     "data": {
      "text/plain": [
       "0"
      ]
     },
     "execution_count": 52,
     "metadata": {},
     "output_type": "execute_result"
    }
   ],
   "source": [
    "#create a function\n",
    "def fill_missing_value (credit_scoring, age_group, days_employed):\n",
    "    grouped_values = credit_scoring.groupby('age_group')['days_employed'].median().reset_index()\n",
    "    size = len(grouped_values)\n",
    "    for i in range(size):\n",
    "        group = grouped_values['age_group'][i]\n",
    "        value = grouped_values['days_employed'][i]\n",
    "        credit_scoring.loc[(credit_scoring['age_group']==group) & (credit_scoring['days_employed'].isna()), 'days_employed'] = value\n",
    "    return credit_scoring\n",
    "\n",
    "#apply the function\n",
    "credit_scoring = fill_missing_value(credit_scoring, 'age_group', 'days_employed')\n",
    "\n",
    "#check the dataset\n",
    "credit_scoring['days_employed'].isna().sum()"
   ]
  },
  {
   "cell_type": "code",
   "execution_count": 53,
   "id": "dced07b3",
   "metadata": {
    "scrolled": true
   },
   "outputs": [
    {
     "name": "stdout",
     "output_type": "stream",
     "text": [
      "<class 'pandas.core.frame.DataFrame'>\n",
      "Int64Index: 21522 entries, 0 to 21524\n",
      "Data columns (total 13 columns):\n",
      " #   Column            Non-Null Count  Dtype  \n",
      "---  ------            --------------  -----  \n",
      " 0   children          21522 non-null  int64  \n",
      " 1   days_employed     21522 non-null  float64\n",
      " 2   dob_years         21522 non-null  int64  \n",
      " 3   education         21522 non-null  object \n",
      " 4   education_id      21522 non-null  int64  \n",
      " 5   family_status     21522 non-null  object \n",
      " 6   family_status_id  21522 non-null  int64  \n",
      " 7   gender            21522 non-null  object \n",
      " 8   income_type       21522 non-null  object \n",
      " 9   debt              21522 non-null  int64  \n",
      " 10  total_income      21522 non-null  float64\n",
      " 11  purpose           21522 non-null  object \n",
      " 12  age_group         21522 non-null  object \n",
      "dtypes: float64(2), int64(5), object(6)\n",
      "memory usage: 2.3+ MB\n"
     ]
    }
   ],
   "source": [
    "#check the null value\n",
    "credit_scoring.info()"
   ]
  },
  {
   "cell_type": "markdown",
   "id": "227054fb",
   "metadata": {},
   "source": [
    "Dari data diatas dapat disimpulkan bahwa semua nilai null sudah terisi karena setiap kolom memiliki jumlah entri yang sama."
   ]
  },
  {
   "cell_type": "markdown",
   "id": "e272b895",
   "metadata": {},
   "source": [
    "## Menambah Kolom yang Dibutuhkan <a id='add-column'></a>\n",
    "\n",
    "Pada kolom `days_employed` memiliki satuan hari, dimana telalu rumit untuk melakukan analisis. Sehingga jumlah hari dapat diubah menjadi tahun."
   ]
  },
  {
   "cell_type": "code",
   "execution_count": 54,
   "id": "938551bc",
   "metadata": {},
   "outputs": [
    {
     "data": {
      "text/html": [
       "<div>\n",
       "<style scoped>\n",
       "    .dataframe tbody tr th:only-of-type {\n",
       "        vertical-align: middle;\n",
       "    }\n",
       "\n",
       "    .dataframe tbody tr th {\n",
       "        vertical-align: top;\n",
       "    }\n",
       "\n",
       "    .dataframe thead th {\n",
       "        text-align: right;\n",
       "    }\n",
       "</style>\n",
       "<table border=\"1\" class=\"dataframe\">\n",
       "  <thead>\n",
       "    <tr style=\"text-align: right;\">\n",
       "      <th></th>\n",
       "      <th>children</th>\n",
       "      <th>days_employed</th>\n",
       "      <th>dob_years</th>\n",
       "      <th>education</th>\n",
       "      <th>education_id</th>\n",
       "      <th>family_status</th>\n",
       "      <th>family_status_id</th>\n",
       "      <th>gender</th>\n",
       "      <th>income_type</th>\n",
       "      <th>debt</th>\n",
       "      <th>total_income</th>\n",
       "      <th>purpose</th>\n",
       "      <th>age_group</th>\n",
       "      <th>years_employed</th>\n",
       "    </tr>\n",
       "  </thead>\n",
       "  <tbody>\n",
       "    <tr>\n",
       "      <th>0</th>\n",
       "      <td>1</td>\n",
       "      <td>8438.0</td>\n",
       "      <td>42</td>\n",
       "      <td>bachelor's degree</td>\n",
       "      <td>0</td>\n",
       "      <td>married</td>\n",
       "      <td>0</td>\n",
       "      <td>F</td>\n",
       "      <td>employee</td>\n",
       "      <td>0</td>\n",
       "      <td>40620.102</td>\n",
       "      <td>house</td>\n",
       "      <td>adult</td>\n",
       "      <td>23.0</td>\n",
       "    </tr>\n",
       "    <tr>\n",
       "      <th>1</th>\n",
       "      <td>1</td>\n",
       "      <td>4025.0</td>\n",
       "      <td>36</td>\n",
       "      <td>secondary education</td>\n",
       "      <td>1</td>\n",
       "      <td>married</td>\n",
       "      <td>0</td>\n",
       "      <td>F</td>\n",
       "      <td>employee</td>\n",
       "      <td>0</td>\n",
       "      <td>17932.802</td>\n",
       "      <td>cars</td>\n",
       "      <td>adult</td>\n",
       "      <td>11.0</td>\n",
       "    </tr>\n",
       "    <tr>\n",
       "      <th>2</th>\n",
       "      <td>0</td>\n",
       "      <td>5624.0</td>\n",
       "      <td>33</td>\n",
       "      <td>secondary education</td>\n",
       "      <td>1</td>\n",
       "      <td>married</td>\n",
       "      <td>0</td>\n",
       "      <td>M</td>\n",
       "      <td>employee</td>\n",
       "      <td>0</td>\n",
       "      <td>23341.752</td>\n",
       "      <td>house</td>\n",
       "      <td>adult</td>\n",
       "      <td>15.0</td>\n",
       "    </tr>\n",
       "    <tr>\n",
       "      <th>3</th>\n",
       "      <td>3</td>\n",
       "      <td>4125.0</td>\n",
       "      <td>32</td>\n",
       "      <td>secondary education</td>\n",
       "      <td>1</td>\n",
       "      <td>married</td>\n",
       "      <td>0</td>\n",
       "      <td>M</td>\n",
       "      <td>employee</td>\n",
       "      <td>0</td>\n",
       "      <td>42820.568</td>\n",
       "      <td>education</td>\n",
       "      <td>adult</td>\n",
       "      <td>11.0</td>\n",
       "    </tr>\n",
       "    <tr>\n",
       "      <th>4</th>\n",
       "      <td>0</td>\n",
       "      <td>340267.0</td>\n",
       "      <td>53</td>\n",
       "      <td>secondary education</td>\n",
       "      <td>1</td>\n",
       "      <td>civil partnership</td>\n",
       "      <td>1</td>\n",
       "      <td>F</td>\n",
       "      <td>retiree</td>\n",
       "      <td>0</td>\n",
       "      <td>25378.572</td>\n",
       "      <td>wedding</td>\n",
       "      <td>adult</td>\n",
       "      <td>932.0</td>\n",
       "    </tr>\n",
       "  </tbody>\n",
       "</table>\n",
       "</div>"
      ],
      "text/plain": [
       "   children  days_employed  dob_years            education  education_id  \\\n",
       "0         1         8438.0         42    bachelor's degree             0   \n",
       "1         1         4025.0         36  secondary education             1   \n",
       "2         0         5624.0         33  secondary education             1   \n",
       "3         3         4125.0         32  secondary education             1   \n",
       "4         0       340267.0         53  secondary education             1   \n",
       "\n",
       "       family_status  family_status_id gender income_type  debt  total_income  \\\n",
       "0            married                 0      F    employee     0     40620.102   \n",
       "1            married                 0      F    employee     0     17932.802   \n",
       "2            married                 0      M    employee     0     23341.752   \n",
       "3            married                 0      M    employee     0     42820.568   \n",
       "4  civil partnership                 1      F     retiree     0     25378.572   \n",
       "\n",
       "     purpose age_group  years_employed  \n",
       "0      house     adult            23.0  \n",
       "1       cars     adult            11.0  \n",
       "2      house     adult            15.0  \n",
       "3  education     adult            11.0  \n",
       "4    wedding     adult           932.0  "
      ]
     },
     "execution_count": 54,
     "metadata": {},
     "output_type": "execute_result"
    }
   ],
   "source": [
    "#convert days to years\n",
    "credit_scoring['years_employed'] = round(credit_scoring['days_employed'] / 365, 0)\n",
    "\n",
    "#check the dataset\n",
    "credit_scoring.head()"
   ]
  },
  {
   "cell_type": "markdown",
   "id": "578a00d5",
   "metadata": {},
   "source": [
    "Dari data diatas, dapat dilihat bahwa ada beberapa data yang menunjukkan lama waktu bekerja dalam tahun lebih dari usia nasabah. Sehingga, secara logika hal ini tidak masuk akal. Kejadian ini bisa terjadi apabila adanya salah input data atau typo dalam memasukkan tanggal bekerja.\n",
    "\n",
    "Hal yang dapat dilakukan adalah menghilangkan data tersebut.\n",
    "\n",
    "Penggolongan di Indonesia untuk usia produktif adalah 15 - 64 tahun. Sehingga, usia termuda seseorang dapat bekerja adalah 15 tahun."
   ]
  },
  {
   "cell_type": "code",
   "execution_count": 55,
   "id": "3d383160",
   "metadata": {},
   "outputs": [
    {
     "data": {
      "text/html": [
       "<div>\n",
       "<style scoped>\n",
       "    .dataframe tbody tr th:only-of-type {\n",
       "        vertical-align: middle;\n",
       "    }\n",
       "\n",
       "    .dataframe tbody tr th {\n",
       "        vertical-align: top;\n",
       "    }\n",
       "\n",
       "    .dataframe thead th {\n",
       "        text-align: right;\n",
       "    }\n",
       "</style>\n",
       "<table border=\"1\" class=\"dataframe\">\n",
       "  <thead>\n",
       "    <tr style=\"text-align: right;\">\n",
       "      <th></th>\n",
       "      <th>children</th>\n",
       "      <th>days_employed</th>\n",
       "      <th>dob_years</th>\n",
       "      <th>education</th>\n",
       "      <th>education_id</th>\n",
       "      <th>family_status</th>\n",
       "      <th>family_status_id</th>\n",
       "      <th>gender</th>\n",
       "      <th>income_type</th>\n",
       "      <th>debt</th>\n",
       "      <th>total_income</th>\n",
       "      <th>purpose</th>\n",
       "      <th>age_group</th>\n",
       "      <th>years_employed</th>\n",
       "      <th>max_working_years</th>\n",
       "    </tr>\n",
       "  </thead>\n",
       "  <tbody>\n",
       "    <tr>\n",
       "      <th>0</th>\n",
       "      <td>1</td>\n",
       "      <td>8438.0</td>\n",
       "      <td>42</td>\n",
       "      <td>bachelor's degree</td>\n",
       "      <td>0</td>\n",
       "      <td>married</td>\n",
       "      <td>0</td>\n",
       "      <td>F</td>\n",
       "      <td>employee</td>\n",
       "      <td>0</td>\n",
       "      <td>40620.102</td>\n",
       "      <td>house</td>\n",
       "      <td>adult</td>\n",
       "      <td>23.0</td>\n",
       "      <td>27</td>\n",
       "    </tr>\n",
       "    <tr>\n",
       "      <th>1</th>\n",
       "      <td>1</td>\n",
       "      <td>4025.0</td>\n",
       "      <td>36</td>\n",
       "      <td>secondary education</td>\n",
       "      <td>1</td>\n",
       "      <td>married</td>\n",
       "      <td>0</td>\n",
       "      <td>F</td>\n",
       "      <td>employee</td>\n",
       "      <td>0</td>\n",
       "      <td>17932.802</td>\n",
       "      <td>cars</td>\n",
       "      <td>adult</td>\n",
       "      <td>11.0</td>\n",
       "      <td>21</td>\n",
       "    </tr>\n",
       "    <tr>\n",
       "      <th>2</th>\n",
       "      <td>0</td>\n",
       "      <td>5624.0</td>\n",
       "      <td>33</td>\n",
       "      <td>secondary education</td>\n",
       "      <td>1</td>\n",
       "      <td>married</td>\n",
       "      <td>0</td>\n",
       "      <td>M</td>\n",
       "      <td>employee</td>\n",
       "      <td>0</td>\n",
       "      <td>23341.752</td>\n",
       "      <td>house</td>\n",
       "      <td>adult</td>\n",
       "      <td>15.0</td>\n",
       "      <td>18</td>\n",
       "    </tr>\n",
       "    <tr>\n",
       "      <th>3</th>\n",
       "      <td>3</td>\n",
       "      <td>4125.0</td>\n",
       "      <td>32</td>\n",
       "      <td>secondary education</td>\n",
       "      <td>1</td>\n",
       "      <td>married</td>\n",
       "      <td>0</td>\n",
       "      <td>M</td>\n",
       "      <td>employee</td>\n",
       "      <td>0</td>\n",
       "      <td>42820.568</td>\n",
       "      <td>education</td>\n",
       "      <td>adult</td>\n",
       "      <td>11.0</td>\n",
       "      <td>17</td>\n",
       "    </tr>\n",
       "    <tr>\n",
       "      <th>4</th>\n",
       "      <td>0</td>\n",
       "      <td>340267.0</td>\n",
       "      <td>53</td>\n",
       "      <td>secondary education</td>\n",
       "      <td>1</td>\n",
       "      <td>civil partnership</td>\n",
       "      <td>1</td>\n",
       "      <td>F</td>\n",
       "      <td>retiree</td>\n",
       "      <td>0</td>\n",
       "      <td>25378.572</td>\n",
       "      <td>wedding</td>\n",
       "      <td>adult</td>\n",
       "      <td>932.0</td>\n",
       "      <td>38</td>\n",
       "    </tr>\n",
       "  </tbody>\n",
       "</table>\n",
       "</div>"
      ],
      "text/plain": [
       "   children  days_employed  dob_years            education  education_id  \\\n",
       "0         1         8438.0         42    bachelor's degree             0   \n",
       "1         1         4025.0         36  secondary education             1   \n",
       "2         0         5624.0         33  secondary education             1   \n",
       "3         3         4125.0         32  secondary education             1   \n",
       "4         0       340267.0         53  secondary education             1   \n",
       "\n",
       "       family_status  family_status_id gender income_type  debt  total_income  \\\n",
       "0            married                 0      F    employee     0     40620.102   \n",
       "1            married                 0      F    employee     0     17932.802   \n",
       "2            married                 0      M    employee     0     23341.752   \n",
       "3            married                 0      M    employee     0     42820.568   \n",
       "4  civil partnership                 1      F     retiree     0     25378.572   \n",
       "\n",
       "     purpose age_group  years_employed  max_working_years  \n",
       "0      house     adult            23.0                 27  \n",
       "1       cars     adult            11.0                 21  \n",
       "2      house     adult            15.0                 18  \n",
       "3  education     adult            11.0                 17  \n",
       "4    wedding     adult           932.0                 38  "
      ]
     },
     "execution_count": 55,
     "metadata": {},
     "output_type": "execute_result"
    }
   ],
   "source": [
    "#calculate the maximum working year\n",
    "credit_scoring['max_working_years'] = credit_scoring['dob_years'] - 15\n",
    "\n",
    "#check the dataset\n",
    "credit_scoring.head()"
   ]
  },
  {
   "cell_type": "code",
   "execution_count": 56,
   "id": "8b40f823",
   "metadata": {},
   "outputs": [
    {
     "data": {
      "text/html": [
       "<div>\n",
       "<style scoped>\n",
       "    .dataframe tbody tr th:only-of-type {\n",
       "        vertical-align: middle;\n",
       "    }\n",
       "\n",
       "    .dataframe tbody tr th {\n",
       "        vertical-align: top;\n",
       "    }\n",
       "\n",
       "    .dataframe thead th {\n",
       "        text-align: right;\n",
       "    }\n",
       "</style>\n",
       "<table border=\"1\" class=\"dataframe\">\n",
       "  <thead>\n",
       "    <tr style=\"text-align: right;\">\n",
       "      <th></th>\n",
       "      <th>children</th>\n",
       "      <th>days_employed</th>\n",
       "      <th>dob_years</th>\n",
       "      <th>education</th>\n",
       "      <th>education_id</th>\n",
       "      <th>family_status</th>\n",
       "      <th>family_status_id</th>\n",
       "      <th>gender</th>\n",
       "      <th>income_type</th>\n",
       "      <th>debt</th>\n",
       "      <th>total_income</th>\n",
       "      <th>purpose</th>\n",
       "      <th>age_group</th>\n",
       "      <th>years_employed</th>\n",
       "      <th>max_working_years</th>\n",
       "    </tr>\n",
       "  </thead>\n",
       "  <tbody>\n",
       "  </tbody>\n",
       "</table>\n",
       "</div>"
      ],
      "text/plain": [
       "Empty DataFrame\n",
       "Columns: [children, days_employed, dob_years, education, education_id, family_status, family_status_id, gender, income_type, debt, total_income, purpose, age_group, years_employed, max_working_years]\n",
       "Index: []"
      ]
     },
     "execution_count": 56,
     "metadata": {},
     "output_type": "execute_result"
    }
   ],
   "source": [
    "#drop the odd values\n",
    "credit_scoring.drop(credit_scoring.loc[credit_scoring['years_employed'] > credit_scoring['max_working_years']].index, inplace=True)\n",
    "\n",
    "#check the dataset\n",
    "credit_scoring.loc[credit_scoring['years_employed'] > credit_scoring['max_working_years']]"
   ]
  },
  {
   "cell_type": "code",
   "execution_count": 57,
   "id": "f0c46dd1",
   "metadata": {},
   "outputs": [
    {
     "name": "stdout",
     "output_type": "stream",
     "text": [
      "<class 'pandas.core.frame.DataFrame'>\n",
      "Int64Index: 17958 entries, 0 to 21524\n",
      "Data columns (total 15 columns):\n",
      " #   Column             Non-Null Count  Dtype  \n",
      "---  ------             --------------  -----  \n",
      " 0   children           17958 non-null  int64  \n",
      " 1   days_employed      17958 non-null  float64\n",
      " 2   dob_years          17958 non-null  int64  \n",
      " 3   education          17958 non-null  object \n",
      " 4   education_id       17958 non-null  int64  \n",
      " 5   family_status      17958 non-null  object \n",
      " 6   family_status_id   17958 non-null  int64  \n",
      " 7   gender             17958 non-null  object \n",
      " 8   income_type        17958 non-null  object \n",
      " 9   debt               17958 non-null  int64  \n",
      " 10  total_income       17958 non-null  float64\n",
      " 11  purpose            17958 non-null  object \n",
      " 12  age_group          17958 non-null  object \n",
      " 13  years_employed     17958 non-null  float64\n",
      " 14  max_working_years  17958 non-null  int64  \n",
      "dtypes: float64(3), int64(6), object(6)\n",
      "memory usage: 2.2+ MB\n"
     ]
    }
   ],
   "source": [
    "#check the dataset info\n",
    "credit_scoring.info()"
   ]
  },
  {
   "cell_type": "markdown",
   "id": "d76f63a4",
   "metadata": {},
   "source": [
    "# Pengkategorian Data <a id='data-cat'></a>\n",
    "\n",
    "Proses pengkategorian data berguna untuk memudahkan user membaca data yang akan diserahkan. Dalam dataframe `credit_scoring` beberapa kolom bisa dikategorikan. Kolom yang akan dikategorikan adalah kolom `dob_years` (sudah), `days_employed`, dan `total_income`.\n",
    "\n",
    "### Kolom : `years_employed` <a id='data-cat-years'></a>\n",
    "\n",
    "Kolom pertama yang akan dikategorikan adalah kolom `years_employed`. Kolom `years_employed` dapat dikategorikan sebagai berikut:\n",
    "1. Apabila jumlah pengalaman bekerja <= 3 tahun, maka termasuk kategori `new employee`\n",
    "2. Apabila jumlah pengalaman bekerja > 3 tahun, maka termasuk kategori `old employee` \n",
    "\n",
    "Rentang ini didapatkan berdasarkan teori yang berasal dari buku Manajemen Personalia dan Sumber Daya Manusia. Buku ini ditulis oleh Handoko, H pada tahun 2010 dan diterbitkan oleh BPFE UGM, Jogjakarta. "
   ]
  },
  {
   "cell_type": "code",
   "execution_count": 59,
   "id": "c837a310",
   "metadata": {},
   "outputs": [
    {
     "data": {
      "text/html": [
       "<div>\n",
       "<style scoped>\n",
       "    .dataframe tbody tr th:only-of-type {\n",
       "        vertical-align: middle;\n",
       "    }\n",
       "\n",
       "    .dataframe tbody tr th {\n",
       "        vertical-align: top;\n",
       "    }\n",
       "\n",
       "    .dataframe thead th {\n",
       "        text-align: right;\n",
       "    }\n",
       "</style>\n",
       "<table border=\"1\" class=\"dataframe\">\n",
       "  <thead>\n",
       "    <tr style=\"text-align: right;\">\n",
       "      <th></th>\n",
       "      <th>children</th>\n",
       "      <th>days_employed</th>\n",
       "      <th>dob_years</th>\n",
       "      <th>education</th>\n",
       "      <th>education_id</th>\n",
       "      <th>family_status</th>\n",
       "      <th>family_status_id</th>\n",
       "      <th>gender</th>\n",
       "      <th>income_type</th>\n",
       "      <th>debt</th>\n",
       "      <th>total_income</th>\n",
       "      <th>purpose</th>\n",
       "      <th>age_group</th>\n",
       "      <th>years_employed</th>\n",
       "      <th>max_working_years</th>\n",
       "      <th>years_employed_cat</th>\n",
       "      <th>days_employed_cat</th>\n",
       "    </tr>\n",
       "  </thead>\n",
       "  <tbody>\n",
       "    <tr>\n",
       "      <th>0</th>\n",
       "      <td>1</td>\n",
       "      <td>8438.0</td>\n",
       "      <td>42</td>\n",
       "      <td>bachelor's degree</td>\n",
       "      <td>0</td>\n",
       "      <td>married</td>\n",
       "      <td>0</td>\n",
       "      <td>F</td>\n",
       "      <td>employee</td>\n",
       "      <td>0</td>\n",
       "      <td>40620.102</td>\n",
       "      <td>house</td>\n",
       "      <td>adult</td>\n",
       "      <td>23.0</td>\n",
       "      <td>27</td>\n",
       "      <td>unidentified</td>\n",
       "      <td>old employee</td>\n",
       "    </tr>\n",
       "    <tr>\n",
       "      <th>1</th>\n",
       "      <td>1</td>\n",
       "      <td>4025.0</td>\n",
       "      <td>36</td>\n",
       "      <td>secondary education</td>\n",
       "      <td>1</td>\n",
       "      <td>married</td>\n",
       "      <td>0</td>\n",
       "      <td>F</td>\n",
       "      <td>employee</td>\n",
       "      <td>0</td>\n",
       "      <td>17932.802</td>\n",
       "      <td>cars</td>\n",
       "      <td>adult</td>\n",
       "      <td>11.0</td>\n",
       "      <td>21</td>\n",
       "      <td>unidentified</td>\n",
       "      <td>old employee</td>\n",
       "    </tr>\n",
       "    <tr>\n",
       "      <th>2</th>\n",
       "      <td>0</td>\n",
       "      <td>5624.0</td>\n",
       "      <td>33</td>\n",
       "      <td>secondary education</td>\n",
       "      <td>1</td>\n",
       "      <td>married</td>\n",
       "      <td>0</td>\n",
       "      <td>M</td>\n",
       "      <td>employee</td>\n",
       "      <td>0</td>\n",
       "      <td>23341.752</td>\n",
       "      <td>house</td>\n",
       "      <td>adult</td>\n",
       "      <td>15.0</td>\n",
       "      <td>18</td>\n",
       "      <td>unidentified</td>\n",
       "      <td>old employee</td>\n",
       "    </tr>\n",
       "    <tr>\n",
       "      <th>3</th>\n",
       "      <td>3</td>\n",
       "      <td>4125.0</td>\n",
       "      <td>32</td>\n",
       "      <td>secondary education</td>\n",
       "      <td>1</td>\n",
       "      <td>married</td>\n",
       "      <td>0</td>\n",
       "      <td>M</td>\n",
       "      <td>employee</td>\n",
       "      <td>0</td>\n",
       "      <td>42820.568</td>\n",
       "      <td>education</td>\n",
       "      <td>adult</td>\n",
       "      <td>11.0</td>\n",
       "      <td>17</td>\n",
       "      <td>unidentified</td>\n",
       "      <td>old employee</td>\n",
       "    </tr>\n",
       "    <tr>\n",
       "      <th>5</th>\n",
       "      <td>0</td>\n",
       "      <td>927.0</td>\n",
       "      <td>27</td>\n",
       "      <td>bachelor's degree</td>\n",
       "      <td>0</td>\n",
       "      <td>civil partnership</td>\n",
       "      <td>1</td>\n",
       "      <td>M</td>\n",
       "      <td>business</td>\n",
       "      <td>0</td>\n",
       "      <td>40922.170</td>\n",
       "      <td>house</td>\n",
       "      <td>adult</td>\n",
       "      <td>3.0</td>\n",
       "      <td>12</td>\n",
       "      <td>unidentified</td>\n",
       "      <td>new employee</td>\n",
       "    </tr>\n",
       "  </tbody>\n",
       "</table>\n",
       "</div>"
      ],
      "text/plain": [
       "   children  days_employed  dob_years            education  education_id  \\\n",
       "0         1         8438.0         42    bachelor's degree             0   \n",
       "1         1         4025.0         36  secondary education             1   \n",
       "2         0         5624.0         33  secondary education             1   \n",
       "3         3         4125.0         32  secondary education             1   \n",
       "5         0          927.0         27    bachelor's degree             0   \n",
       "\n",
       "       family_status  family_status_id gender income_type  debt  total_income  \\\n",
       "0            married                 0      F    employee     0     40620.102   \n",
       "1            married                 0      F    employee     0     17932.802   \n",
       "2            married                 0      M    employee     0     23341.752   \n",
       "3            married                 0      M    employee     0     42820.568   \n",
       "5  civil partnership                 1      M    business     0     40922.170   \n",
       "\n",
       "     purpose age_group  years_employed  max_working_years years_employed_cat  \\\n",
       "0      house     adult            23.0                 27       unidentified   \n",
       "1       cars     adult            11.0                 21       unidentified   \n",
       "2      house     adult            15.0                 18       unidentified   \n",
       "3  education     adult            11.0                 17       unidentified   \n",
       "5      house     adult             3.0                 12       unidentified   \n",
       "\n",
       "  days_employed_cat  \n",
       "0      old employee  \n",
       "1      old employee  \n",
       "2      old employee  \n",
       "3      old employee  \n",
       "5      new employee  "
      ]
     },
     "execution_count": 59,
     "metadata": {},
     "output_type": "execute_result"
    }
   ],
   "source": [
    "#create a function\n",
    "def days_employed_cat(days):\n",
    "  try:\n",
    "    if days <= 1095:\n",
    "      a = 'new employee'\n",
    "    elif days > 1095:\n",
    "      a = 'old employee'\n",
    "    return a\n",
    "  except:\n",
    "    return 'unidentified'\n",
    "\n",
    "#apply the function\n",
    "credit_scoring['days_employed_cat'] = credit_scoring['days_employed'].apply(days_employed_cat)\n",
    "\n",
    "#check the dataset\n",
    "credit_scoring.head()"
   ]
  },
  {
   "cell_type": "code",
   "execution_count": 60,
   "id": "0b5730e5",
   "metadata": {},
   "outputs": [
    {
     "data": {
      "text/plain": [
       "old employee    12231\n",
       "new employee     5727\n",
       "Name: days_employed_cat, dtype: int64"
      ]
     },
     "execution_count": 60,
     "metadata": {},
     "output_type": "execute_result"
    }
   ],
   "source": [
    "#check the new category\n",
    "credit_scoring['days_employed_cat'].value_counts()"
   ]
  },
  {
   "cell_type": "markdown",
   "id": "9d51e2b8",
   "metadata": {},
   "source": [
    "### Kolom : `total_income` <a id='data-cat-income'></a>\n",
    "\n",
    "Kolom ini diatur berdasarkan analisa yang dilakukan di Amerika. Hal ini disebabkan oleh data dari kolom `total_income` memiliki nilai dalam mata uang dollar sehingga akan lebih masuk akal jika menggunakan pembagian dari US.\n",
    "\n",
    "Kolom `total_income` akan dibagi menjadi=\n",
    "1. Apabila `total_income` <= 32.048 termasuk kelompok `poor`\n",
    "2. Apabila `total_income` berjumlah 32.048 < x <= 53.413 termasuk kelompok `lower-middle class`\n",
    "3. Apabila `total_income` berjumlah 53.413 < x <= 106.827 termasuk kelompok `middle class`\n",
    "4. Apabila `total_income` berjumlah 106.827 < x <= 373.894 termasuk kelompok `upper-middle class`\n",
    "5. Apabila `total_income` berjumlah > 373.894 termasuk kelompok `rich`"
   ]
  },
  {
   "cell_type": "code",
   "execution_count": 61,
   "id": "02a3cbde",
   "metadata": {},
   "outputs": [
    {
     "data": {
      "text/html": [
       "<div>\n",
       "<style scoped>\n",
       "    .dataframe tbody tr th:only-of-type {\n",
       "        vertical-align: middle;\n",
       "    }\n",
       "\n",
       "    .dataframe tbody tr th {\n",
       "        vertical-align: top;\n",
       "    }\n",
       "\n",
       "    .dataframe thead th {\n",
       "        text-align: right;\n",
       "    }\n",
       "</style>\n",
       "<table border=\"1\" class=\"dataframe\">\n",
       "  <thead>\n",
       "    <tr style=\"text-align: right;\">\n",
       "      <th></th>\n",
       "      <th>children</th>\n",
       "      <th>days_employed</th>\n",
       "      <th>dob_years</th>\n",
       "      <th>education</th>\n",
       "      <th>education_id</th>\n",
       "      <th>family_status</th>\n",
       "      <th>family_status_id</th>\n",
       "      <th>gender</th>\n",
       "      <th>income_type</th>\n",
       "      <th>debt</th>\n",
       "      <th>total_income</th>\n",
       "      <th>purpose</th>\n",
       "      <th>age_group</th>\n",
       "      <th>years_employed</th>\n",
       "      <th>max_working_years</th>\n",
       "      <th>years_employed_cat</th>\n",
       "      <th>days_employed_cat</th>\n",
       "      <th>total_income_cat</th>\n",
       "    </tr>\n",
       "  </thead>\n",
       "  <tbody>\n",
       "    <tr>\n",
       "      <th>0</th>\n",
       "      <td>1</td>\n",
       "      <td>8438.0</td>\n",
       "      <td>42</td>\n",
       "      <td>bachelor's degree</td>\n",
       "      <td>0</td>\n",
       "      <td>married</td>\n",
       "      <td>0</td>\n",
       "      <td>F</td>\n",
       "      <td>employee</td>\n",
       "      <td>0</td>\n",
       "      <td>40620.102</td>\n",
       "      <td>house</td>\n",
       "      <td>adult</td>\n",
       "      <td>23.0</td>\n",
       "      <td>27</td>\n",
       "      <td>unidentified</td>\n",
       "      <td>old employee</td>\n",
       "      <td>lower-middle class</td>\n",
       "    </tr>\n",
       "    <tr>\n",
       "      <th>1</th>\n",
       "      <td>1</td>\n",
       "      <td>4025.0</td>\n",
       "      <td>36</td>\n",
       "      <td>secondary education</td>\n",
       "      <td>1</td>\n",
       "      <td>married</td>\n",
       "      <td>0</td>\n",
       "      <td>F</td>\n",
       "      <td>employee</td>\n",
       "      <td>0</td>\n",
       "      <td>17932.802</td>\n",
       "      <td>cars</td>\n",
       "      <td>adult</td>\n",
       "      <td>11.0</td>\n",
       "      <td>21</td>\n",
       "      <td>unidentified</td>\n",
       "      <td>old employee</td>\n",
       "      <td>poor</td>\n",
       "    </tr>\n",
       "    <tr>\n",
       "      <th>2</th>\n",
       "      <td>0</td>\n",
       "      <td>5624.0</td>\n",
       "      <td>33</td>\n",
       "      <td>secondary education</td>\n",
       "      <td>1</td>\n",
       "      <td>married</td>\n",
       "      <td>0</td>\n",
       "      <td>M</td>\n",
       "      <td>employee</td>\n",
       "      <td>0</td>\n",
       "      <td>23341.752</td>\n",
       "      <td>house</td>\n",
       "      <td>adult</td>\n",
       "      <td>15.0</td>\n",
       "      <td>18</td>\n",
       "      <td>unidentified</td>\n",
       "      <td>old employee</td>\n",
       "      <td>poor</td>\n",
       "    </tr>\n",
       "    <tr>\n",
       "      <th>3</th>\n",
       "      <td>3</td>\n",
       "      <td>4125.0</td>\n",
       "      <td>32</td>\n",
       "      <td>secondary education</td>\n",
       "      <td>1</td>\n",
       "      <td>married</td>\n",
       "      <td>0</td>\n",
       "      <td>M</td>\n",
       "      <td>employee</td>\n",
       "      <td>0</td>\n",
       "      <td>42820.568</td>\n",
       "      <td>education</td>\n",
       "      <td>adult</td>\n",
       "      <td>11.0</td>\n",
       "      <td>17</td>\n",
       "      <td>unidentified</td>\n",
       "      <td>old employee</td>\n",
       "      <td>lower-middle class</td>\n",
       "    </tr>\n",
       "    <tr>\n",
       "      <th>5</th>\n",
       "      <td>0</td>\n",
       "      <td>927.0</td>\n",
       "      <td>27</td>\n",
       "      <td>bachelor's degree</td>\n",
       "      <td>0</td>\n",
       "      <td>civil partnership</td>\n",
       "      <td>1</td>\n",
       "      <td>M</td>\n",
       "      <td>business</td>\n",
       "      <td>0</td>\n",
       "      <td>40922.170</td>\n",
       "      <td>house</td>\n",
       "      <td>adult</td>\n",
       "      <td>3.0</td>\n",
       "      <td>12</td>\n",
       "      <td>unidentified</td>\n",
       "      <td>new employee</td>\n",
       "      <td>lower-middle class</td>\n",
       "    </tr>\n",
       "  </tbody>\n",
       "</table>\n",
       "</div>"
      ],
      "text/plain": [
       "   children  days_employed  dob_years            education  education_id  \\\n",
       "0         1         8438.0         42    bachelor's degree             0   \n",
       "1         1         4025.0         36  secondary education             1   \n",
       "2         0         5624.0         33  secondary education             1   \n",
       "3         3         4125.0         32  secondary education             1   \n",
       "5         0          927.0         27    bachelor's degree             0   \n",
       "\n",
       "       family_status  family_status_id gender income_type  debt  total_income  \\\n",
       "0            married                 0      F    employee     0     40620.102   \n",
       "1            married                 0      F    employee     0     17932.802   \n",
       "2            married                 0      M    employee     0     23341.752   \n",
       "3            married                 0      M    employee     0     42820.568   \n",
       "5  civil partnership                 1      M    business     0     40922.170   \n",
       "\n",
       "     purpose age_group  years_employed  max_working_years years_employed_cat  \\\n",
       "0      house     adult            23.0                 27       unidentified   \n",
       "1       cars     adult            11.0                 21       unidentified   \n",
       "2      house     adult            15.0                 18       unidentified   \n",
       "3  education     adult            11.0                 17       unidentified   \n",
       "5      house     adult             3.0                 12       unidentified   \n",
       "\n",
       "  days_employed_cat    total_income_cat  \n",
       "0      old employee  lower-middle class  \n",
       "1      old employee                poor  \n",
       "2      old employee                poor  \n",
       "3      old employee  lower-middle class  \n",
       "5      new employee  lower-middle class  "
      ]
     },
     "execution_count": 61,
     "metadata": {},
     "output_type": "execute_result"
    }
   ],
   "source": [
    "#create a function\n",
    "def total_income_cat(income):\n",
    "  try:\n",
    "    if income <= 32048:\n",
    "      a = 'poor'\n",
    "    elif 32048 < income <= 53413:\n",
    "      a = 'lower-middle class'\n",
    "    elif 53413 < income <= 106827 :\n",
    "      a = 'middle class'\n",
    "    elif 106827 < income <= 373894:\n",
    "      a = 'upper-middle class'\n",
    "    elif income > 373894:\n",
    "      a = 'rich'\n",
    "    return a\n",
    "  except:\n",
    "    return 'unidentified'\n",
    "\n",
    "#apply the function\n",
    "credit_scoring['total_income_cat'] = credit_scoring['total_income'].apply(total_income_cat)\n",
    "\n",
    "#check the dataset\n",
    "credit_scoring.head()"
   ]
  },
  {
   "cell_type": "code",
   "execution_count": 62,
   "id": "cfcda222",
   "metadata": {},
   "outputs": [
    {
     "data": {
      "text/plain": [
       "poor                  75.00\n",
       "lower-middle class    19.72\n",
       "middle class           4.87\n",
       "upper-middle class     0.41\n",
       "Name: total_income_cat, dtype: float64"
      ]
     },
     "execution_count": 62,
     "metadata": {},
     "output_type": "execute_result"
    }
   ],
   "source": [
    "#check the distribution of total_income\n",
    "round(credit_scoring['total_income_cat'].value_counts(normalize=True)*100, 2)"
   ]
  },
  {
   "cell_type": "markdown",
   "id": "1ef7fe21",
   "metadata": {},
   "source": [
    "# Memeriksa Hipotesis <a id='check-hypothesis'></a>\n",
    "\n",
    "Setelah melakukan pra-processing data, dapat dilakukan analisis untuk menentukan hubungan antara jumlah anak, status perkawinan, tingkat pendapatan, dan perbedaan tujuan peminjaman dengan probabilitas seseorang dalam melakukan gagal bayar pinjaman. \n",
    "\n",
    "## Jumlah Anak <a id='children'></a>"
   ]
  },
  {
   "cell_type": "code",
   "execution_count": 72,
   "id": "17e68244",
   "metadata": {},
   "outputs": [
    {
     "data": {
      "text/html": [
       "<div>\n",
       "<style scoped>\n",
       "    .dataframe tbody tr th:only-of-type {\n",
       "        vertical-align: middle;\n",
       "    }\n",
       "\n",
       "    .dataframe tbody tr th {\n",
       "        vertical-align: top;\n",
       "    }\n",
       "\n",
       "    .dataframe thead tr th {\n",
       "        text-align: left;\n",
       "    }\n",
       "\n",
       "    .dataframe thead tr:last-of-type th {\n",
       "        text-align: right;\n",
       "    }\n",
       "</style>\n",
       "<table border=\"1\" class=\"dataframe\">\n",
       "  <thead>\n",
       "    <tr>\n",
       "      <th></th>\n",
       "      <th>sum</th>\n",
       "    </tr>\n",
       "    <tr>\n",
       "      <th></th>\n",
       "      <th>debt</th>\n",
       "    </tr>\n",
       "    <tr>\n",
       "      <th>children</th>\n",
       "      <th></th>\n",
       "    </tr>\n",
       "  </thead>\n",
       "  <tbody>\n",
       "    <tr>\n",
       "      <th>0</th>\n",
       "      <td>891</td>\n",
       "    </tr>\n",
       "    <tr>\n",
       "      <th>1</th>\n",
       "      <td>433</td>\n",
       "    </tr>\n",
       "    <tr>\n",
       "      <th>2</th>\n",
       "      <td>199</td>\n",
       "    </tr>\n",
       "    <tr>\n",
       "      <th>3</th>\n",
       "      <td>26</td>\n",
       "    </tr>\n",
       "    <tr>\n",
       "      <th>4</th>\n",
       "      <td>4</td>\n",
       "    </tr>\n",
       "    <tr>\n",
       "      <th>5</th>\n",
       "      <td>0</td>\n",
       "    </tr>\n",
       "  </tbody>\n",
       "</table>\n",
       "</div>"
      ],
      "text/plain": [
       "          sum\n",
       "         debt\n",
       "children     \n",
       "0         891\n",
       "1         433\n",
       "2         199\n",
       "3          26\n",
       "4           4\n",
       "5           0"
      ]
     },
     "execution_count": 72,
     "metadata": {},
     "output_type": "execute_result"
    }
   ],
   "source": [
    "#create a pivot table\n",
    "first_hipotesis_pivot = pd.pivot_table(credit_scoring,\n",
    "                       index = ['children'],\n",
    "                       values = ['debt'],\n",
    "                       aggfunc = ['sum'])\n",
    "first_hipotesis_pivot"
   ]
  },
  {
   "cell_type": "markdown",
   "id": "6f4b1d42",
   "metadata": {},
   "source": [
    "**Kesimpulan**\n",
    "\n",
    "Kolom `debt` mempunyai nilai 0 atau 1. Nilai 0 menjelaskan bahwa nasabah tersebut tidak pernah telat membayar dan nilai 1 sebaliknya. Sehingga, berdasarkan data diatas, dapat disimpulkan bahwa 889 nasabah yang tidak mempunyai anak telat membayar. Sedangkan jumlah anak terbanyak yang dimiliki nasabah, yaitu 5, tidak pernah telat membayar.\n",
    "\n",
    "Kesimpulan yang didapat adalah hipotesis awal ditolak. Hubungan yang terjadi antara jumlah anak dan pelunasan tepat waktu adalah semakin banyak anak, maka peluang untuk melakukan pembayaran tepat waktu lebih besar.\n",
    "\n",
    "## Status Keluarga <a id='family-status'></a>"
   ]
  },
  {
   "cell_type": "code",
   "execution_count": 85,
   "id": "7898bab1",
   "metadata": {},
   "outputs": [
    {
     "data": {
      "text/html": [
       "<div>\n",
       "<style scoped>\n",
       "    .dataframe tbody tr th:only-of-type {\n",
       "        vertical-align: middle;\n",
       "    }\n",
       "\n",
       "    .dataframe tbody tr th {\n",
       "        vertical-align: top;\n",
       "    }\n",
       "\n",
       "    .dataframe thead th {\n",
       "        text-align: right;\n",
       "    }\n",
       "</style>\n",
       "<table border=\"1\" class=\"dataframe\">\n",
       "  <thead>\n",
       "    <tr style=\"text-align: right;\">\n",
       "      <th></th>\n",
       "      <th>debt</th>\n",
       "    </tr>\n",
       "    <tr>\n",
       "      <th>family_status</th>\n",
       "      <th></th>\n",
       "    </tr>\n",
       "  </thead>\n",
       "  <tbody>\n",
       "    <tr>\n",
       "      <th>married</th>\n",
       "      <td>830</td>\n",
       "    </tr>\n",
       "    <tr>\n",
       "      <th>civil partnership</th>\n",
       "      <td>358</td>\n",
       "    </tr>\n",
       "    <tr>\n",
       "      <th>unmarried</th>\n",
       "      <td>261</td>\n",
       "    </tr>\n",
       "    <tr>\n",
       "      <th>divorced</th>\n",
       "      <td>73</td>\n",
       "    </tr>\n",
       "    <tr>\n",
       "      <th>widow / widower</th>\n",
       "      <td>31</td>\n",
       "    </tr>\n",
       "  </tbody>\n",
       "</table>\n",
       "</div>"
      ],
      "text/plain": [
       "                   debt\n",
       "family_status          \n",
       "married             830\n",
       "civil partnership   358\n",
       "unmarried           261\n",
       "divorced             73\n",
       "widow / widower      31"
      ]
     },
     "execution_count": 85,
     "metadata": {},
     "output_type": "execute_result"
    }
   ],
   "source": [
    "#create a pivot table\n",
    "second_hipotesis_pivot = pd.pivot_table(credit_scoring,\n",
    "                       index = 'family_status',\n",
    "                       values = 'debt',\n",
    "                       aggfunc = 'sum')\n",
    "second_hipotesis_pivot.sort_values(by='debt', ascending=False)"
   ]
  },
  {
   "cell_type": "markdown",
   "id": "22066653",
   "metadata": {},
   "source": [
    "**Kesimpulan**\n",
    "\n",
    "Dari data diatas dapat disimpulkan bahwa, hipotesis awal diterima. Hal ini ditunjukkan bahwa nilai terendah nasabah yang mempunyai hutang/`debt` adalah seorang widower atau duda dan yang paling tinggi adalah nasabah yang telah menikah. Sehingga dapat disimpulkan bahwa ada hubungan antara status keluarga dengan pelunasan tepat waktu. \n",
    "\n",
    "\n",
    "## Tingkat Pendapatan  <a id='total-income'></a>"
   ]
  },
  {
   "cell_type": "code",
   "execution_count": 88,
   "id": "bcdb8bb9",
   "metadata": {},
   "outputs": [
    {
     "data": {
      "text/html": [
       "<div>\n",
       "<style scoped>\n",
       "    .dataframe tbody tr th:only-of-type {\n",
       "        vertical-align: middle;\n",
       "    }\n",
       "\n",
       "    .dataframe tbody tr th {\n",
       "        vertical-align: top;\n",
       "    }\n",
       "\n",
       "    .dataframe thead th {\n",
       "        text-align: right;\n",
       "    }\n",
       "</style>\n",
       "<table border=\"1\" class=\"dataframe\">\n",
       "  <thead>\n",
       "    <tr style=\"text-align: right;\">\n",
       "      <th></th>\n",
       "      <th>debt</th>\n",
       "    </tr>\n",
       "    <tr>\n",
       "      <th>total_income_cat</th>\n",
       "      <th></th>\n",
       "    </tr>\n",
       "  </thead>\n",
       "  <tbody>\n",
       "    <tr>\n",
       "      <th>poor</th>\n",
       "      <td>1228</td>\n",
       "    </tr>\n",
       "    <tr>\n",
       "      <th>lower-middle class</th>\n",
       "      <td>256</td>\n",
       "    </tr>\n",
       "    <tr>\n",
       "      <th>middle class</th>\n",
       "      <td>64</td>\n",
       "    </tr>\n",
       "    <tr>\n",
       "      <th>upper-middle class</th>\n",
       "      <td>5</td>\n",
       "    </tr>\n",
       "  </tbody>\n",
       "</table>\n",
       "</div>"
      ],
      "text/plain": [
       "                    debt\n",
       "total_income_cat        \n",
       "poor                1228\n",
       "lower-middle class   256\n",
       "middle class          64\n",
       "upper-middle class     5"
      ]
     },
     "execution_count": 88,
     "metadata": {},
     "output_type": "execute_result"
    }
   ],
   "source": [
    "#create a pivot table\n",
    "third_hipotesis_pivot = pd.pivot_table(credit_scoring,\n",
    "                       index = 'total_income_cat',\n",
    "                       values = 'debt',\n",
    "                       aggfunc = 'sum')\n",
    "third_hipotesis_pivot.sort_values(by='debt', ascending=False)"
   ]
  },
  {
   "cell_type": "markdown",
   "id": "e579dc90",
   "metadata": {},
   "source": [
    "**Kesimpulan**\n",
    "\n",
    "Dari data diatas dapat dilihat bahwa, hipotesis awal diterima. Nasabah dengan golongan ekonomi `poor` memiliki kasus telat bayar paling banyak sementara nasabah dengan golongan ekonomi `upper middle class` memiliki kasus telat bayar paling rendah. Sehingga dapat disimpulkan bahwa ada hubungan antara tingkat pendapatan dengan pelunasan tepat waktu.\n",
    "\n",
    "## Tujuan <a id='purpose'></a>"
   ]
  },
  {
   "cell_type": "code",
   "execution_count": 89,
   "id": "fee28325",
   "metadata": {},
   "outputs": [
    {
     "data": {
      "text/html": [
       "<div>\n",
       "<style scoped>\n",
       "    .dataframe tbody tr th:only-of-type {\n",
       "        vertical-align: middle;\n",
       "    }\n",
       "\n",
       "    .dataframe tbody tr th {\n",
       "        vertical-align: top;\n",
       "    }\n",
       "\n",
       "    .dataframe thead th {\n",
       "        text-align: right;\n",
       "    }\n",
       "</style>\n",
       "<table border=\"1\" class=\"dataframe\">\n",
       "  <thead>\n",
       "    <tr style=\"text-align: right;\">\n",
       "      <th></th>\n",
       "      <th>debt</th>\n",
       "    </tr>\n",
       "    <tr>\n",
       "      <th>purpose</th>\n",
       "      <th></th>\n",
       "    </tr>\n",
       "  </thead>\n",
       "  <tbody>\n",
       "    <tr>\n",
       "      <th>house</th>\n",
       "      <td>701</td>\n",
       "    </tr>\n",
       "    <tr>\n",
       "      <th>cars</th>\n",
       "      <td>358</td>\n",
       "    </tr>\n",
       "    <tr>\n",
       "      <th>education</th>\n",
       "      <td>327</td>\n",
       "    </tr>\n",
       "    <tr>\n",
       "      <th>wedding</th>\n",
       "      <td>167</td>\n",
       "    </tr>\n",
       "  </tbody>\n",
       "</table>\n",
       "</div>"
      ],
      "text/plain": [
       "           debt\n",
       "purpose        \n",
       "house       701\n",
       "cars        358\n",
       "education   327\n",
       "wedding     167"
      ]
     },
     "execution_count": 89,
     "metadata": {},
     "output_type": "execute_result"
    }
   ],
   "source": [
    "#create a pivot table\n",
    "fourth_hipotesis_pivot = pd.pivot_table(credit_scoring,\n",
    "                       index = 'purpose',\n",
    "                       values = 'debt',\n",
    "                       aggfunc = 'sum')\n",
    "fourth_hipotesis_pivot.sort_values(by='debt', ascending=False)"
   ]
  },
  {
   "cell_type": "markdown",
   "id": "bf40cefa",
   "metadata": {},
   "source": [
    "**Kesimpulan**\n",
    "\n",
    "Tujuan kredit dengan kasus telat bayar paling tinggi adalah `house`. Hal ini bisa disebabkan oleh harga rumah yang tinggi sehingga jumlah pinjaman besar. Apabila jumlah pinjaman yang diambil nasabah terlalu besar dan tidak sesuai dengan pendapatan yang diterima, maka kemungkinan untuk gagal bayarnya semakin tinggi. Pinjaman yang besar juga mempengaruhi bunga yang diterapkan oleh bank, sehingga ada kemungkinan untuk gagal bayar bagi nasabah yang mengambil jumlah pinjaman besar.\n",
    "\n",
    "Teori ini juga didukung oleh hasil analisa tujuan kredit terendah, yaitu untuk `wedding`. Sebagian besar biaya pernikahan tidak lebih besar dari pembelian mobil, rumah, ataupun pendidikan. Sehingga pinjaman yang diambil nasabah tidak terlalu besar dan kemungkinan untuk gagal bayar menjadi lebih kecil."
   ]
  },
  {
   "cell_type": "markdown",
   "id": "156503e0",
   "metadata": {},
   "source": [
    "# Kesimpulan Umum <a id='final-summary'></a>\n",
    "\n",
    "Proses analisis data yang dilakukan saat ini digunakan untuk acuan untuk melakukan penilaian kredit dan kelayakan kredit nasabah. Proses analisis dimulai dengan identifikasi dan mengisi nilai-nilai yang hilang. Terdapat beberapa nilai yang hilang di beberapa kolom. Nilai yang hilang tersebut diisi berdasarkan adanya outlier atau nilai yang menyimpang. Data pada kolom `days_employed` dan `total_income` memiliki nilai menyimpang sehingga pengisian data yang hilang menggunakan `median()`. Sementara untuk kolom `dob_years` tidak ada outlier sehingga diisi dengan `mean()` atau rata-rata. \n",
    "\n",
    "Selain itu, data dianalisis untuk melihat nilai yang tidak masuk akal. Seperti pada `days_employed` memiliki nilai hari negatif dan setelah dikonversi menjadi tahun nilainya tidak masuk akal. Sehingga, untuk mencegah kesalahan dalam analisa data, nilai yang tidak masuk akal didrop karena tidak adanya bukti bahwa data yang dimasukkan salah ketik/input. \n",
    "\n",
    "Setelah semua data terisi, data yang menjadi duplikat juga dihilangkan karena akan mempengaruhi proses analisis dan pengambilan kesimpulan. \n",
    "\n",
    "Kesimpulan keseluruhan untuk penilaian kredit nasabah adalah=\n",
    "1. Semakin banyak anak yang dimiliki oleh nasabah, maka nasabah tersebut cenderung tepat waktu untuk membayar\n",
    "2. Apabila status nasabah single/lajang, maka nasabah tersebut cenderung tepat waktu untuk membayar\n",
    "3. Semakin tinggi pendapatan nasabah, maka cenderung tepat waktu untuk membayar\n",
    "4. Semakin kecil pinjaman nasabah, yang bisa ditentukan dari tujuan pinjaman, maka nasabah cenderung tepat waktu untuk membayar"
   ]
  }
 ],
 "metadata": {
  "kernelspec": {
   "display_name": "Python 3 (ipykernel)",
   "language": "python",
   "name": "python3"
  },
  "language_info": {
   "codemirror_mode": {
    "name": "ipython",
    "version": 3
   },
   "file_extension": ".py",
   "mimetype": "text/x-python",
   "name": "python",
   "nbconvert_exporter": "python",
   "pygments_lexer": "ipython3",
   "version": "3.9.13"
  }
 },
 "nbformat": 4,
 "nbformat_minor": 5
}
